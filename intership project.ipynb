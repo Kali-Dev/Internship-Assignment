{
 "cells": [
  {
   "cell_type": "markdown",
   "metadata": {},
   "source": [
    "## Analyzing student test data"
   ]
  },
  {
   "cell_type": "markdown",
   "metadata": {},
   "source": [
    "We are given with 5 collections from a MongoDB database\n",
    "Each collection details are given below.\n",
    "\n",
    "1. attempts: It holds summary data of student's attempt. Each test by a student becomes an attempt. If student takes 5 tests (same or different test), it will create 5 attempts. If student abandones the test, isAbandon flag is set to true. We consider only isAbandon = false documents. \n",
    "\n",
    "2. attemptDetails: Question level details such as time taken on each question can be found in this collection. Each attempt has a corresponding attemptDetails.\n",
    "\n",
    "3. practicesets: List of tests. Array 'questions' holds list of questions. Test can be created organically or can be created from the questions of question pool.\n",
    "\n",
    "4. questions: list of questions. One question can be part of many tests. Question can be put in the pool using flag 'isAllowReuse'\n",
    "\n",
    "5. grades/subjects/topics - master data of exam, related subjects and topics\n",
    "\n",
    "6. users: list of students including teachers and parents"
   ]
  },
  {
   "cell_type": "markdown",
   "metadata": {},
   "source": [
    "## Objective:\n",
    "1. Does more practice mean better performance?\n",
    "2. Detect fraud done by some test takers. Fraud can be based on\n",
    "    - Number of consecutive correct answers\n",
    "    - Time spent on each questions when answer is correct\n",
    "    - Time spent outside the test window (offscreen time)\n",
    "    - Time spent by other users of similar profile on this question\n",
    "    - Strength and weakness of the student on the topic\n",
    "    - Time spent by the student on similar questions\n",
    "3. Student clusters based on different attributes e.g. performance, time spent, consistency, participation in discussion etc\n",
    "4. A teacher may mark a question easy/medium/hard (Perceived hardness) but we want to give feedback to teachers on what's real hardness based on student's data (how many students answered correctly, how much time taken, whether student was good in the area/topic etc. )\n",
    "5. Predict score in a test and challenge student to beat it "
   ]
  },
  {
   "cell_type": "markdown",
   "metadata": {},
   "source": [
    "### In this notebook we will try to answer our first objective\n",
    "### whether the students who has practiced more has better performance."
   ]
  },
  {
   "cell_type": "code",
   "execution_count": 1,
   "metadata": {},
   "outputs": [],
   "source": [
    "%matplotlib inline\n",
    "import numpy as np\n",
    "import pandas as pd\n",
    "import matplotlib.pyplot as plt\n",
    "# from pymongo import mongo_client\n",
    "from pymongo import MongoClient\n",
    "from pandas.io.json import json_normalize\n",
    "import json\n",
    "from sklearn.linear_model import LinearRegression\n",
    "import scikitplot as skplt\n",
    "import warnings\n",
    "warnings.filterwarnings('ignore')"
   ]
  },
  {
   "cell_type": "code",
   "execution_count": 2,
   "metadata": {},
   "outputs": [],
   "source": [
    "# lets import the dataframes, which are created from collections using pymongo and pandas earlier.\n",
    "attempts_df = pd.read_csv('attempts_df.csv')\n",
    "attemptdetails_df = pd.read_csv('attemptdetails_df.csv')\n",
    "users_df = pd.read_csv(\"users_df.csv\")"
   ]
  },
  {
   "cell_type": "markdown",
   "metadata": {},
   "source": [
    "## Data wrangling"
   ]
  },
  {
   "cell_type": "code",
   "execution_count": 3,
   "metadata": {},
   "outputs": [
    {
     "data": {
      "text/html": [
       "<div>\n",
       "<style scoped>\n",
       "    .dataframe tbody tr th:only-of-type {\n",
       "        vertical-align: middle;\n",
       "    }\n",
       "\n",
       "    .dataframe tbody tr th {\n",
       "        vertical-align: top;\n",
       "    }\n",
       "\n",
       "    .dataframe thead th {\n",
       "        text-align: right;\n",
       "    }\n",
       "</style>\n",
       "<table border=\"1\" class=\"dataframe\">\n",
       "  <thead>\n",
       "    <tr style=\"text-align: right;\">\n",
       "      <th></th>\n",
       "      <th>__v</th>\n",
       "      <th>_id</th>\n",
       "      <th>attemptType</th>\n",
       "      <th>attemptdetails</th>\n",
       "      <th>createdAt</th>\n",
       "      <th>createdBy.name</th>\n",
       "      <th>createdBy.user</th>\n",
       "      <th>email</th>\n",
       "      <th>idOffline</th>\n",
       "      <th>isAbandoned</th>\n",
       "      <th>...</th>\n",
       "      <th>totalCorrects</th>\n",
       "      <th>totalErrors</th>\n",
       "      <th>totalMark</th>\n",
       "      <th>totalMarkeds</th>\n",
       "      <th>totalMissed</th>\n",
       "      <th>totalQuestions</th>\n",
       "      <th>totalTime</th>\n",
       "      <th>updatedAt</th>\n",
       "      <th>user</th>\n",
       "      <th>userId</th>\n",
       "    </tr>\n",
       "  </thead>\n",
       "  <tbody>\n",
       "    <tr>\n",
       "      <th>0</th>\n",
       "      <td>0</td>\n",
       "      <td>5b851ffdb0a5d1ad413d8301</td>\n",
       "      <td>NaN</td>\n",
       "      <td>5b851ffdb0a5d17a103d8302</td>\n",
       "      <td>2018-08-28 09:23:57.839</td>\n",
       "      <td>teacherlpu</td>\n",
       "      <td>5b3e0266a14b7e000d9cc040</td>\n",
       "      <td>NaN</td>\n",
       "      <td>NaN</td>\n",
       "      <td>False</td>\n",
       "      <td>...</td>\n",
       "      <td>35</td>\n",
       "      <td>20</td>\n",
       "      <td>35.0</td>\n",
       "      <td>0</td>\n",
       "      <td>0</td>\n",
       "      <td>55</td>\n",
       "      <td>2887958</td>\n",
       "      <td>2018-08-28 10:12:25.489</td>\n",
       "      <td>5b82922edd6c9c6e6db00fb0</td>\n",
       "      <td>NaN</td>\n",
       "    </tr>\n",
       "    <tr>\n",
       "      <th>1</th>\n",
       "      <td>0</td>\n",
       "      <td>5b852003b0a5d136aa3d8371</td>\n",
       "      <td>NaN</td>\n",
       "      <td>5b852003b0a5d190863d8372</td>\n",
       "      <td>2018-08-28 09:17:11.950</td>\n",
       "      <td>teacherlpu</td>\n",
       "      <td>5b3e0266a14b7e000d9cc040</td>\n",
       "      <td>NaN</td>\n",
       "      <td>NaN</td>\n",
       "      <td>False</td>\n",
       "      <td>...</td>\n",
       "      <td>31</td>\n",
       "      <td>24</td>\n",
       "      <td>31.0</td>\n",
       "      <td>0</td>\n",
       "      <td>0</td>\n",
       "      <td>55</td>\n",
       "      <td>3300006</td>\n",
       "      <td>2018-08-28 10:12:39.239</td>\n",
       "      <td>5b829227dd6c9c4c7fb00da0</td>\n",
       "      <td>NaN</td>\n",
       "    </tr>\n",
       "    <tr>\n",
       "      <th>2</th>\n",
       "      <td>0</td>\n",
       "      <td>5b851ff7dd6c9c8cedb051d3</td>\n",
       "      <td>NaN</td>\n",
       "      <td>5b851ff7dd6c9c400eb051d4</td>\n",
       "      <td>2018-08-28 09:17:00.084</td>\n",
       "      <td>teacherlpu</td>\n",
       "      <td>5b3e0266a14b7e000d9cc040</td>\n",
       "      <td>NaN</td>\n",
       "      <td>NaN</td>\n",
       "      <td>False</td>\n",
       "      <td>...</td>\n",
       "      <td>25</td>\n",
       "      <td>9</td>\n",
       "      <td>25.0</td>\n",
       "      <td>0</td>\n",
       "      <td>21</td>\n",
       "      <td>55</td>\n",
       "      <td>3299999</td>\n",
       "      <td>2018-08-28 10:12:21.337</td>\n",
       "      <td>5b82922cdd6c9c2801b00f20</td>\n",
       "      <td>NaN</td>\n",
       "    </tr>\n",
       "    <tr>\n",
       "      <th>3</th>\n",
       "      <td>0</td>\n",
       "      <td>5b852014b0a5d10fc33d83e4</td>\n",
       "      <td>NaN</td>\n",
       "      <td>5b852014b0a5d11fd13d83e5</td>\n",
       "      <td>2018-08-28 09:17:28.725</td>\n",
       "      <td>teacherlpu</td>\n",
       "      <td>5b3e0266a14b7e000d9cc040</td>\n",
       "      <td>NaN</td>\n",
       "      <td>NaN</td>\n",
       "      <td>False</td>\n",
       "      <td>...</td>\n",
       "      <td>29</td>\n",
       "      <td>15</td>\n",
       "      <td>29.0</td>\n",
       "      <td>0</td>\n",
       "      <td>11</td>\n",
       "      <td>55</td>\n",
       "      <td>3300049</td>\n",
       "      <td>2018-08-28 10:12:59.708</td>\n",
       "      <td>5b82922add6c9c5f61b00e6a</td>\n",
       "      <td>NaN</td>\n",
       "    </tr>\n",
       "    <tr>\n",
       "      <th>4</th>\n",
       "      <td>0</td>\n",
       "      <td>5b85200948598b0aa6eabf57</td>\n",
       "      <td>NaN</td>\n",
       "      <td>5b85200948598b0d5beabf58</td>\n",
       "      <td>2018-08-28 09:17:16.906</td>\n",
       "      <td>teacherlpu</td>\n",
       "      <td>5b3e0266a14b7e000d9cc040</td>\n",
       "      <td>NaN</td>\n",
       "      <td>NaN</td>\n",
       "      <td>False</td>\n",
       "      <td>...</td>\n",
       "      <td>16</td>\n",
       "      <td>19</td>\n",
       "      <td>16.0</td>\n",
       "      <td>0</td>\n",
       "      <td>20</td>\n",
       "      <td>55</td>\n",
       "      <td>3300005</td>\n",
       "      <td>2018-08-28 10:12:38.440</td>\n",
       "      <td>5b82922edd6c9cd998b00f86</td>\n",
       "      <td>NaN</td>\n",
       "    </tr>\n",
       "  </tbody>\n",
       "</table>\n",
       "<p>5 rows × 43 columns</p>\n",
       "</div>"
      ],
      "text/plain": [
       "   __v                       _id  attemptType            attemptdetails  \\\n",
       "0    0  5b851ffdb0a5d1ad413d8301          NaN  5b851ffdb0a5d17a103d8302   \n",
       "1    0  5b852003b0a5d136aa3d8371          NaN  5b852003b0a5d190863d8372   \n",
       "2    0  5b851ff7dd6c9c8cedb051d3          NaN  5b851ff7dd6c9c400eb051d4   \n",
       "3    0  5b852014b0a5d10fc33d83e4          NaN  5b852014b0a5d11fd13d83e5   \n",
       "4    0  5b85200948598b0aa6eabf57          NaN  5b85200948598b0d5beabf58   \n",
       "\n",
       "                 createdAt createdBy.name            createdBy.user email  \\\n",
       "0  2018-08-28 09:23:57.839     teacherlpu  5b3e0266a14b7e000d9cc040   NaN   \n",
       "1  2018-08-28 09:17:11.950     teacherlpu  5b3e0266a14b7e000d9cc040   NaN   \n",
       "2  2018-08-28 09:17:00.084     teacherlpu  5b3e0266a14b7e000d9cc040   NaN   \n",
       "3  2018-08-28 09:17:28.725     teacherlpu  5b3e0266a14b7e000d9cc040   NaN   \n",
       "4  2018-08-28 09:17:16.906     teacherlpu  5b3e0266a14b7e000d9cc040   NaN   \n",
       "\n",
       "  idOffline  isAbandoned  ...  totalCorrects  totalErrors  totalMark  \\\n",
       "0       NaN        False  ...             35           20       35.0   \n",
       "1       NaN        False  ...             31           24       31.0   \n",
       "2       NaN        False  ...             25            9       25.0   \n",
       "3       NaN        False  ...             29           15       29.0   \n",
       "4       NaN        False  ...             16           19       16.0   \n",
       "\n",
       "   totalMarkeds  totalMissed  totalQuestions  totalTime  \\\n",
       "0             0            0              55    2887958   \n",
       "1             0            0              55    3300006   \n",
       "2             0           21              55    3299999   \n",
       "3             0           11              55    3300049   \n",
       "4             0           20              55    3300005   \n",
       "\n",
       "                 updatedAt                      user  userId  \n",
       "0  2018-08-28 10:12:25.489  5b82922edd6c9c6e6db00fb0     NaN  \n",
       "1  2018-08-28 10:12:39.239  5b829227dd6c9c4c7fb00da0     NaN  \n",
       "2  2018-08-28 10:12:21.337  5b82922cdd6c9c2801b00f20     NaN  \n",
       "3  2018-08-28 10:12:59.708  5b82922add6c9c5f61b00e6a     NaN  \n",
       "4  2018-08-28 10:12:38.440  5b82922edd6c9cd998b00f86     NaN  \n",
       "\n",
       "[5 rows x 43 columns]"
      ]
     },
     "execution_count": 3,
     "metadata": {},
     "output_type": "execute_result"
    }
   ],
   "source": [
    "# Lets see the first five rows of these 3 5 dataframes to get some sense of the data\n",
    "attempts_df.head()"
   ]
  },
  {
   "cell_type": "code",
   "execution_count": 4,
   "metadata": {},
   "outputs": [
    {
     "data": {
      "text/html": [
       "<div>\n",
       "<style scoped>\n",
       "    .dataframe tbody tr th:only-of-type {\n",
       "        vertical-align: middle;\n",
       "    }\n",
       "\n",
       "    .dataframe tbody tr th {\n",
       "        vertical-align: top;\n",
       "    }\n",
       "\n",
       "    .dataframe thead th {\n",
       "        text-align: right;\n",
       "    }\n",
       "</style>\n",
       "<table border=\"1\" class=\"dataframe\">\n",
       "  <thead>\n",
       "    <tr style=\"text-align: right;\">\n",
       "      <th></th>\n",
       "      <th>QA</th>\n",
       "      <th>__v</th>\n",
       "      <th>_id</th>\n",
       "      <th>attempt</th>\n",
       "      <th>createdAt</th>\n",
       "      <th>isAbandoned</th>\n",
       "      <th>practicesetId</th>\n",
       "      <th>updatedAt</th>\n",
       "      <th>user</th>\n",
       "    </tr>\n",
       "  </thead>\n",
       "  <tbody>\n",
       "    <tr>\n",
       "      <th>0</th>\n",
       "      <td>[{'question': ObjectId('5b82ecb0dd6c9c00e1b018...</td>\n",
       "      <td>0</td>\n",
       "      <td>5b83d566af15dcb2402312df</td>\n",
       "      <td>5b83d566af15dc6d322312de</td>\n",
       "      <td>2018-08-27 10:41:42.351</td>\n",
       "      <td>False</td>\n",
       "      <td>5b82ecb0dd6c9c3785b01856</td>\n",
       "      <td>2018-08-27 10:41:42.351</td>\n",
       "      <td>5b82922cdd6c9c67f5b00ef6</td>\n",
       "    </tr>\n",
       "    <tr>\n",
       "      <th>1</th>\n",
       "      <td>[{'question': ObjectId('5b82ecb0dd6c9c00e1b018...</td>\n",
       "      <td>0</td>\n",
       "      <td>5b83d5723a227f518ce1770b</td>\n",
       "      <td>5b83d5723a227f350be1770a</td>\n",
       "      <td>2018-08-27 10:41:54.195</td>\n",
       "      <td>False</td>\n",
       "      <td>5b82ecb0dd6c9c3785b01856</td>\n",
       "      <td>2018-08-27 10:41:54.195</td>\n",
       "      <td>5b82922edd6c9c0c57b00f90</td>\n",
       "    </tr>\n",
       "    <tr>\n",
       "      <th>2</th>\n",
       "      <td>[{'question': ObjectId('5b82ecb0dd6c9c00e1b018...</td>\n",
       "      <td>0</td>\n",
       "      <td>5b83d57edd6c9c2b7db02a8f</td>\n",
       "      <td>5b83d57edd6c9c8ec5b02a8e</td>\n",
       "      <td>2018-08-27 10:42:06.566</td>\n",
       "      <td>False</td>\n",
       "      <td>5b82ecb0dd6c9c3785b01856</td>\n",
       "      <td>2018-08-27 10:42:06.566</td>\n",
       "      <td>5b82922edd6c9c52c9b00fbe</td>\n",
       "    </tr>\n",
       "    <tr>\n",
       "      <th>3</th>\n",
       "      <td>[{'question': ObjectId('5b82ecb0dd6c9c00e1b018...</td>\n",
       "      <td>0</td>\n",
       "      <td>5b83d58648598b77a0ea8a2a</td>\n",
       "      <td>5b83d58548598bb42dea8a29</td>\n",
       "      <td>2018-08-27 10:42:14.080</td>\n",
       "      <td>False</td>\n",
       "      <td>5b82ecb0dd6c9c3785b01856</td>\n",
       "      <td>2018-08-27 10:42:14.080</td>\n",
       "      <td>5b82922edd6c9c55fbb00f92</td>\n",
       "    </tr>\n",
       "    <tr>\n",
       "      <th>4</th>\n",
       "      <td>[{'question': ObjectId('5b82ecb0dd6c9c00e1b018...</td>\n",
       "      <td>0</td>\n",
       "      <td>5b83d58c48598b0d31ea8a8c</td>\n",
       "      <td>5b83d58c48598bec32ea8a8b</td>\n",
       "      <td>2018-08-27 10:42:20.879</td>\n",
       "      <td>False</td>\n",
       "      <td>5b82ecb0dd6c9c3785b01856</td>\n",
       "      <td>2018-08-27 10:42:20.879</td>\n",
       "      <td>5b829227dd6c9c9dacb00da2</td>\n",
       "    </tr>\n",
       "  </tbody>\n",
       "</table>\n",
       "</div>"
      ],
      "text/plain": [
       "                                                  QA  __v  \\\n",
       "0  [{'question': ObjectId('5b82ecb0dd6c9c00e1b018...    0   \n",
       "1  [{'question': ObjectId('5b82ecb0dd6c9c00e1b018...    0   \n",
       "2  [{'question': ObjectId('5b82ecb0dd6c9c00e1b018...    0   \n",
       "3  [{'question': ObjectId('5b82ecb0dd6c9c00e1b018...    0   \n",
       "4  [{'question': ObjectId('5b82ecb0dd6c9c00e1b018...    0   \n",
       "\n",
       "                        _id                   attempt  \\\n",
       "0  5b83d566af15dcb2402312df  5b83d566af15dc6d322312de   \n",
       "1  5b83d5723a227f518ce1770b  5b83d5723a227f350be1770a   \n",
       "2  5b83d57edd6c9c2b7db02a8f  5b83d57edd6c9c8ec5b02a8e   \n",
       "3  5b83d58648598b77a0ea8a2a  5b83d58548598bb42dea8a29   \n",
       "4  5b83d58c48598b0d31ea8a8c  5b83d58c48598bec32ea8a8b   \n",
       "\n",
       "                 createdAt  isAbandoned             practicesetId  \\\n",
       "0  2018-08-27 10:41:42.351        False  5b82ecb0dd6c9c3785b01856   \n",
       "1  2018-08-27 10:41:54.195        False  5b82ecb0dd6c9c3785b01856   \n",
       "2  2018-08-27 10:42:06.566        False  5b82ecb0dd6c9c3785b01856   \n",
       "3  2018-08-27 10:42:14.080        False  5b82ecb0dd6c9c3785b01856   \n",
       "4  2018-08-27 10:42:20.879        False  5b82ecb0dd6c9c3785b01856   \n",
       "\n",
       "                 updatedAt                      user  \n",
       "0  2018-08-27 10:41:42.351  5b82922cdd6c9c67f5b00ef6  \n",
       "1  2018-08-27 10:41:54.195  5b82922edd6c9c0c57b00f90  \n",
       "2  2018-08-27 10:42:06.566  5b82922edd6c9c52c9b00fbe  \n",
       "3  2018-08-27 10:42:14.080  5b82922edd6c9c55fbb00f92  \n",
       "4  2018-08-27 10:42:20.879  5b829227dd6c9c9dacb00da2  "
      ]
     },
     "execution_count": 4,
     "metadata": {},
     "output_type": "execute_result"
    }
   ],
   "source": [
    "attemptdetails_df.head()"
   ]
  },
  {
   "cell_type": "code",
   "execution_count": 5,
   "metadata": {},
   "outputs": [
    {
     "data": {
      "text/html": [
       "<div>\n",
       "<style scoped>\n",
       "    .dataframe tbody tr th:only-of-type {\n",
       "        vertical-align: middle;\n",
       "    }\n",
       "\n",
       "    .dataframe tbody tr th {\n",
       "        vertical-align: top;\n",
       "    }\n",
       "\n",
       "    .dataframe thead th {\n",
       "        text-align: right;\n",
       "    }\n",
       "</style>\n",
       "<table border=\"1\" class=\"dataframe\">\n",
       "  <thead>\n",
       "    <tr style=\"text-align: right;\">\n",
       "      <th></th>\n",
       "      <th>__v</th>\n",
       "      <th>_id</th>\n",
       "      <th>about</th>\n",
       "      <th>avatar._id</th>\n",
       "      <th>avatar.fileName</th>\n",
       "      <th>avatar.fileUrl</th>\n",
       "      <th>avatar.mimeType</th>\n",
       "      <th>avatar.path</th>\n",
       "      <th>avatar.size</th>\n",
       "      <th>avatarMD._id</th>\n",
       "      <th>...</th>\n",
       "      <th>state</th>\n",
       "      <th>status</th>\n",
       "      <th>streamUrl</th>\n",
       "      <th>street</th>\n",
       "      <th>studentExclusive</th>\n",
       "      <th>theme</th>\n",
       "      <th>trainingCertifications</th>\n",
       "      <th>updatedAt</th>\n",
       "      <th>userId</th>\n",
       "      <th>web</th>\n",
       "    </tr>\n",
       "  </thead>\n",
       "  <tbody>\n",
       "    <tr>\n",
       "      <th>0</th>\n",
       "      <td>1</td>\n",
       "      <td>5ba5dd1b7fd1c520c12710ee</td>\n",
       "      <td>NaN</td>\n",
       "      <td>NaN</td>\n",
       "      <td>NaN</td>\n",
       "      <td>NaN</td>\n",
       "      <td>NaN</td>\n",
       "      <td>NaN</td>\n",
       "      <td>NaN</td>\n",
       "      <td>NaN</td>\n",
       "      <td>...</td>\n",
       "      <td>NaN</td>\n",
       "      <td>True</td>\n",
       "      <td>NaN</td>\n",
       "      <td>NaN</td>\n",
       "      <td>False</td>\n",
       "      <td>NaN</td>\n",
       "      <td>NaN</td>\n",
       "      <td>2018-09-22 06:11:39.601</td>\n",
       "      <td>s6o9mreasdhzdufo@gmail.com</td>\n",
       "      <td>NaN</td>\n",
       "    </tr>\n",
       "    <tr>\n",
       "      <th>1</th>\n",
       "      <td>2</td>\n",
       "      <td>5ba5dd1d7fd1c5a3fb2710f2</td>\n",
       "      <td>NaN</td>\n",
       "      <td>NaN</td>\n",
       "      <td>NaN</td>\n",
       "      <td>NaN</td>\n",
       "      <td>NaN</td>\n",
       "      <td>NaN</td>\n",
       "      <td>NaN</td>\n",
       "      <td>NaN</td>\n",
       "      <td>...</td>\n",
       "      <td>Punjab</td>\n",
       "      <td>True</td>\n",
       "      <td>NaN</td>\n",
       "      <td>NaN</td>\n",
       "      <td>False</td>\n",
       "      <td>NaN</td>\n",
       "      <td>NaN</td>\n",
       "      <td>2018-09-22 06:11:41.955</td>\n",
       "      <td>d8o2oank.iamna@gmail.com</td>\n",
       "      <td>NaN</td>\n",
       "    </tr>\n",
       "    <tr>\n",
       "      <th>2</th>\n",
       "      <td>2</td>\n",
       "      <td>5ba5dd217fd1c56a6e2710f8</td>\n",
       "      <td>NaN</td>\n",
       "      <td>NaN</td>\n",
       "      <td>NaN</td>\n",
       "      <td>NaN</td>\n",
       "      <td>NaN</td>\n",
       "      <td>NaN</td>\n",
       "      <td>NaN</td>\n",
       "      <td>NaN</td>\n",
       "      <td>...</td>\n",
       "      <td>Punjab</td>\n",
       "      <td>True</td>\n",
       "      <td>NaN</td>\n",
       "      <td>NaN</td>\n",
       "      <td>False</td>\n",
       "      <td>NaN</td>\n",
       "      <td>NaN</td>\n",
       "      <td>2018-09-22 06:11:45.281</td>\n",
       "      <td>9591871089</td>\n",
       "      <td>NaN</td>\n",
       "    </tr>\n",
       "    <tr>\n",
       "      <th>3</th>\n",
       "      <td>2</td>\n",
       "      <td>5ba5dd237fd1c5babe2710fd</td>\n",
       "      <td>NaN</td>\n",
       "      <td>NaN</td>\n",
       "      <td>NaN</td>\n",
       "      <td>NaN</td>\n",
       "      <td>NaN</td>\n",
       "      <td>NaN</td>\n",
       "      <td>NaN</td>\n",
       "      <td>NaN</td>\n",
       "      <td>...</td>\n",
       "      <td>Punjab</td>\n",
       "      <td>True</td>\n",
       "      <td>NaN</td>\n",
       "      <td>NaN</td>\n",
       "      <td>False</td>\n",
       "      <td>NaN</td>\n",
       "      <td>NaN</td>\n",
       "      <td>2018-09-22 06:11:47.159</td>\n",
       "      <td>9819563408</td>\n",
       "      <td>NaN</td>\n",
       "    </tr>\n",
       "    <tr>\n",
       "      <th>4</th>\n",
       "      <td>1</td>\n",
       "      <td>5ba5de707fd1c552b32712cd</td>\n",
       "      <td>NaN</td>\n",
       "      <td>NaN</td>\n",
       "      <td>NaN</td>\n",
       "      <td>NaN</td>\n",
       "      <td>NaN</td>\n",
       "      <td>NaN</td>\n",
       "      <td>NaN</td>\n",
       "      <td>NaN</td>\n",
       "      <td>...</td>\n",
       "      <td>NaN</td>\n",
       "      <td>True</td>\n",
       "      <td>NaN</td>\n",
       "      <td>NaN</td>\n",
       "      <td>False</td>\n",
       "      <td>NaN</td>\n",
       "      <td>NaN</td>\n",
       "      <td>2018-09-22 06:17:20.076</td>\n",
       "      <td>9035735367</td>\n",
       "      <td>NaN</td>\n",
       "    </tr>\n",
       "  </tbody>\n",
       "</table>\n",
       "<p>5 rows × 80 columns</p>\n",
       "</div>"
      ],
      "text/plain": [
       "   __v                       _id about avatar._id avatar.fileName  \\\n",
       "0    1  5ba5dd1b7fd1c520c12710ee   NaN        NaN             NaN   \n",
       "1    2  5ba5dd1d7fd1c5a3fb2710f2   NaN        NaN             NaN   \n",
       "2    2  5ba5dd217fd1c56a6e2710f8   NaN        NaN             NaN   \n",
       "3    2  5ba5dd237fd1c5babe2710fd   NaN        NaN             NaN   \n",
       "4    1  5ba5de707fd1c552b32712cd   NaN        NaN             NaN   \n",
       "\n",
       "  avatar.fileUrl avatar.mimeType avatar.path  avatar.size avatarMD._id  ...  \\\n",
       "0            NaN             NaN         NaN          NaN          NaN  ...   \n",
       "1            NaN             NaN         NaN          NaN          NaN  ...   \n",
       "2            NaN             NaN         NaN          NaN          NaN  ...   \n",
       "3            NaN             NaN         NaN          NaN          NaN  ...   \n",
       "4            NaN             NaN         NaN          NaN          NaN  ...   \n",
       "\n",
       "    state status streamUrl street  studentExclusive theme  \\\n",
       "0     NaN   True       NaN    NaN             False   NaN   \n",
       "1  Punjab   True       NaN    NaN             False   NaN   \n",
       "2  Punjab   True       NaN    NaN             False   NaN   \n",
       "3  Punjab   True       NaN    NaN             False   NaN   \n",
       "4     NaN   True       NaN    NaN             False   NaN   \n",
       "\n",
       "  trainingCertifications                updatedAt                      userId  \\\n",
       "0                    NaN  2018-09-22 06:11:39.601  s6o9mreasdhzdufo@gmail.com   \n",
       "1                    NaN  2018-09-22 06:11:41.955    d8o2oank.iamna@gmail.com   \n",
       "2                    NaN  2018-09-22 06:11:45.281                  9591871089   \n",
       "3                    NaN  2018-09-22 06:11:47.159                  9819563408   \n",
       "4                    NaN  2018-09-22 06:17:20.076                  9035735367   \n",
       "\n",
       "   web  \n",
       "0  NaN  \n",
       "1  NaN  \n",
       "2  NaN  \n",
       "3  NaN  \n",
       "4  NaN  \n",
       "\n",
       "[5 rows x 80 columns]"
      ]
     },
     "execution_count": 5,
     "metadata": {},
     "output_type": "execute_result"
    }
   ],
   "source": [
    "users_df.head()"
   ]
  },
  {
   "cell_type": "code",
   "execution_count": 6,
   "metadata": {},
   "outputs": [
    {
     "data": {
      "text/plain": [
       "((35737, 43), (35737, 9), (6107, 80))"
      ]
     },
     "execution_count": 6,
     "metadata": {},
     "output_type": "execute_result"
    }
   ],
   "source": [
    "attempts_df.shape, attemptdetails_df.shape, users_df.shape"
   ]
  },
  {
   "cell_type": "markdown",
   "metadata": {},
   "source": [
    "#### From above we can see there are lots of columns in all three dataframes which are not required for our analysis.\n",
    "#### Also _id in users dataframe is a primary key which will act as foreign key in other dataframes.\n",
    "#### Every _id in users dataframe has corresponding userId and lets see whether userId values are  unique or is there any duplicates present"
   ]
  },
  {
   "cell_type": "code",
   "execution_count": 7,
   "metadata": {},
   "outputs": [
    {
     "data": {
      "text/plain": [
       "Index(['__v', '_id', 'about', 'avatar._id', 'avatar.fileName',\n",
       "       'avatar.fileUrl', 'avatar.mimeType', 'avatar.path', 'avatar.size',\n",
       "       'avatarMD._id', 'avatarMD.fileName', 'avatarMD.fileUrl',\n",
       "       'avatarMD.mimeType', 'avatarMD.path', 'avatarMD.size', 'avatarSM._id',\n",
       "       'avatarSM.fileName', 'avatarSM.fileUrl', 'avatarSM.mimeType',\n",
       "       'avatarSM.path', 'avatarSM.size', 'birthdate', 'branch', 'city',\n",
       "       'country.callingCodes', 'country.code', 'country.name', 'createdAt',\n",
       "       'designation', 'district', 'educationDetails', 'email', 'emailStudents',\n",
       "       'emailVerified', 'emailVerifyExpired', 'emailVerifyToken',\n",
       "       'entranceExam', 'expertise', 'expiredDate', 'externalAssessment',\n",
       "       'gender', 'grade', 'hashedPassword', 'identificationNumber',\n",
       "       'institute', 'interest', 'interestedSubject', 'isActive', 'isPublic',\n",
       "       'knowAboutUs', 'lastLogin', 'levelHistory', 'locations',\n",
       "       'managerPractice', 'managerStudent', 'name', 'passingYear',\n",
       "       'passwordResetExpired', 'passwordResetToken', 'phoneNumber',\n",
       "       'phoneNumberFull', 'pin', 'practiceAttempted', 'practiceViews',\n",
       "       'programmingLang', 'provider', 'registrationNo', 'role', 'rollNumber',\n",
       "       'salt', 'state', 'status', 'streamUrl', 'street', 'studentExclusive',\n",
       "       'theme', 'trainingCertifications', 'updatedAt', 'userId', 'web'],\n",
       "      dtype='object')"
      ]
     },
     "execution_count": 7,
     "metadata": {},
     "output_type": "execute_result"
    }
   ],
   "source": [
    "users_df.columns"
   ]
  },
  {
   "cell_type": "code",
   "execution_count": 8,
   "metadata": {},
   "outputs": [
    {
     "data": {
      "text/html": [
       "<div>\n",
       "<style scoped>\n",
       "    .dataframe tbody tr th:only-of-type {\n",
       "        vertical-align: middle;\n",
       "    }\n",
       "\n",
       "    .dataframe tbody tr th {\n",
       "        vertical-align: top;\n",
       "    }\n",
       "\n",
       "    .dataframe thead th {\n",
       "        text-align: right;\n",
       "    }\n",
       "</style>\n",
       "<table border=\"1\" class=\"dataframe\">\n",
       "  <thead>\n",
       "    <tr style=\"text-align: right;\">\n",
       "      <th></th>\n",
       "      <th>_id</th>\n",
       "      <th>practiceAttempted</th>\n",
       "      <th>updatedAt</th>\n",
       "      <th>userId</th>\n",
       "    </tr>\n",
       "  </thead>\n",
       "  <tbody>\n",
       "    <tr>\n",
       "      <th>0</th>\n",
       "      <td>5ba5dd1b7fd1c520c12710ee</td>\n",
       "      <td>[]</td>\n",
       "      <td>2018-09-22 06:11:39.601</td>\n",
       "      <td>s6o9mreasdhzdufo@gmail.com</td>\n",
       "    </tr>\n",
       "    <tr>\n",
       "      <th>1</th>\n",
       "      <td>5ba5dd1d7fd1c5a3fb2710f2</td>\n",
       "      <td>[]</td>\n",
       "      <td>2018-09-22 06:11:41.955</td>\n",
       "      <td>d8o2oank.iamna@gmail.com</td>\n",
       "    </tr>\n",
       "    <tr>\n",
       "      <th>2</th>\n",
       "      <td>5ba5dd217fd1c56a6e2710f8</td>\n",
       "      <td>[]</td>\n",
       "      <td>2018-09-22 06:11:45.281</td>\n",
       "      <td>9591871089</td>\n",
       "    </tr>\n",
       "    <tr>\n",
       "      <th>3</th>\n",
       "      <td>5ba5dd237fd1c5babe2710fd</td>\n",
       "      <td>[]</td>\n",
       "      <td>2018-09-22 06:11:47.159</td>\n",
       "      <td>9819563408</td>\n",
       "    </tr>\n",
       "    <tr>\n",
       "      <th>4</th>\n",
       "      <td>5ba5de707fd1c552b32712cd</td>\n",
       "      <td>[]</td>\n",
       "      <td>2018-09-22 06:17:20.076</td>\n",
       "      <td>9035735367</td>\n",
       "    </tr>\n",
       "  </tbody>\n",
       "</table>\n",
       "</div>"
      ],
      "text/plain": [
       "                        _id practiceAttempted                updatedAt  \\\n",
       "0  5ba5dd1b7fd1c520c12710ee                []  2018-09-22 06:11:39.601   \n",
       "1  5ba5dd1d7fd1c5a3fb2710f2                []  2018-09-22 06:11:41.955   \n",
       "2  5ba5dd217fd1c56a6e2710f8                []  2018-09-22 06:11:45.281   \n",
       "3  5ba5dd237fd1c5babe2710fd                []  2018-09-22 06:11:47.159   \n",
       "4  5ba5de707fd1c552b32712cd                []  2018-09-22 06:17:20.076   \n",
       "\n",
       "                       userId  \n",
       "0  s6o9mreasdhzdufo@gmail.com  \n",
       "1    d8o2oank.iamna@gmail.com  \n",
       "2                  9591871089  \n",
       "3                  9819563408  \n",
       "4                  9035735367  "
      ]
     },
     "execution_count": 8,
     "metadata": {},
     "output_type": "execute_result"
    }
   ],
   "source": [
    "users_df = users_df[['_id','practiceAttempted','updatedAt','userId']]\n",
    "users_df.head()"
   ]
  },
  {
   "cell_type": "code",
   "execution_count": 9,
   "metadata": {},
   "outputs": [
    {
     "data": {
      "text/plain": [
       "(0, 15)"
      ]
     },
     "execution_count": 9,
     "metadata": {},
     "output_type": "execute_result"
    }
   ],
   "source": [
    "users_df._id.duplicated().sum(), users_df.userId.duplicated().sum()"
   ]
  },
  {
   "cell_type": "code",
   "execution_count": 10,
   "metadata": {},
   "outputs": [
    {
     "data": {
      "text/html": [
       "<div>\n",
       "<style scoped>\n",
       "    .dataframe tbody tr th:only-of-type {\n",
       "        vertical-align: middle;\n",
       "    }\n",
       "\n",
       "    .dataframe tbody tr th {\n",
       "        vertical-align: top;\n",
       "    }\n",
       "\n",
       "    .dataframe thead th {\n",
       "        text-align: right;\n",
       "    }\n",
       "</style>\n",
       "<table border=\"1\" class=\"dataframe\">\n",
       "  <thead>\n",
       "    <tr style=\"text-align: right;\">\n",
       "      <th></th>\n",
       "      <th>_id</th>\n",
       "      <th>practiceAttempted</th>\n",
       "      <th>updatedAt</th>\n",
       "      <th>userId</th>\n",
       "    </tr>\n",
       "  </thead>\n",
       "  <tbody>\n",
       "    <tr>\n",
       "      <th>1272</th>\n",
       "      <td>5ba5c86623826634308f3d66</td>\n",
       "      <td>[]</td>\n",
       "      <td>2018-09-22 04:43:18.602</td>\n",
       "      <td>9432472763</td>\n",
       "    </tr>\n",
       "    <tr>\n",
       "      <th>1322</th>\n",
       "      <td>5ba5c8662382664c1f8f3d67</td>\n",
       "      <td>[]</td>\n",
       "      <td>2018-09-22 04:43:18.634</td>\n",
       "      <td>9432472763</td>\n",
       "    </tr>\n",
       "    <tr>\n",
       "      <th>1436</th>\n",
       "      <td>5ba5ccef238266a33e8f407c</td>\n",
       "      <td>[]</td>\n",
       "      <td>2018-09-22 05:02:39.351</td>\n",
       "      <td>9982594518</td>\n",
       "    </tr>\n",
       "    <tr>\n",
       "      <th>1440</th>\n",
       "      <td>5ba5ccef23826641da8f407b</td>\n",
       "      <td>[]</td>\n",
       "      <td>2018-09-22 05:02:39.317</td>\n",
       "      <td>9982594518</td>\n",
       "    </tr>\n",
       "    <tr>\n",
       "      <th>3489</th>\n",
       "      <td>5c08ac15f7bcf65556f2baec</td>\n",
       "      <td>[]</td>\n",
       "      <td>2018-12-06 04:56:53.926</td>\n",
       "      <td>s7h9iavratmabh@gmail.com</td>\n",
       "    </tr>\n",
       "    <tr>\n",
       "      <th>3506</th>\n",
       "      <td>5c093d5f48b35cae24df8166</td>\n",
       "      <td>[]</td>\n",
       "      <td>2018-12-06 15:16:47.615</td>\n",
       "      <td>akn.uadkeiep@gmail.com</td>\n",
       "    </tr>\n",
       "    <tr>\n",
       "      <th>3534</th>\n",
       "      <td>5c095527b84cbc79290b2a1d</td>\n",
       "      <td>[]</td>\n",
       "      <td>2018-12-06 16:58:15.039</td>\n",
       "      <td>sah3i2v1ayndidre@gmail.com</td>\n",
       "    </tr>\n",
       "    <tr>\n",
       "      <th>3543</th>\n",
       "      <td>5c0a5ed30abd0061058afe30</td>\n",
       "      <td>[]</td>\n",
       "      <td>2018-12-07 11:51:47.381</td>\n",
       "      <td>a3y3u7s.hr.apdod@gmail.com</td>\n",
       "    </tr>\n",
       "    <tr>\n",
       "      <th>3591</th>\n",
       "      <td>5c0092055e6efb28585aabc4</td>\n",
       "      <td>[]</td>\n",
       "      <td>2018-11-30 01:27:33.597</td>\n",
       "      <td>trhaemruaktiinpaahlply@gmail.com</td>\n",
       "    </tr>\n",
       "    <tr>\n",
       "      <th>3821</th>\n",
       "      <td>5c0b30b1a6f75c3c2d8a0aea</td>\n",
       "      <td>[]</td>\n",
       "      <td>2018-12-08 02:47:13.004</td>\n",
       "      <td>wiansaavdiehs@gmail.com</td>\n",
       "    </tr>\n",
       "    <tr>\n",
       "      <th>3826</th>\n",
       "      <td>5c0b5f26ac032d574446a805</td>\n",
       "      <td>[]</td>\n",
       "      <td>2018-12-08 06:05:26.012</td>\n",
       "      <td>y8e4sywraandtwhoch@gmail.com</td>\n",
       "    </tr>\n",
       "    <tr>\n",
       "      <th>3832</th>\n",
       "      <td>5c0092265e6efb28585ab038</td>\n",
       "      <td>[ObjectId('5be079996ee33b5121c9e559')]</td>\n",
       "      <td>2018-11-30 01:28:06.943</td>\n",
       "      <td>akn.uadkeiep@gmail.com</td>\n",
       "    </tr>\n",
       "    <tr>\n",
       "      <th>4088</th>\n",
       "      <td>5c0ba17da6f75cd32d8a10f1</td>\n",
       "      <td>[]</td>\n",
       "      <td>2018-12-08 10:48:29.856</td>\n",
       "      <td>r2a6nliakja@gmail.com</td>\n",
       "    </tr>\n",
       "    <tr>\n",
       "      <th>4097</th>\n",
       "      <td>5c0bac1c1edf954f6dd890f4</td>\n",
       "      <td>[ObjectId('5c5d36cf4d6d6bdd4d6474f2'), ObjectI...</td>\n",
       "      <td>2018-12-08 11:33:48.247</td>\n",
       "      <td>m8e5g0h9arkaakk@gmail.com</td>\n",
       "    </tr>\n",
       "    <tr>\n",
       "      <th>4160</th>\n",
       "      <td>5c0bc1ef48b35cd4a1df92c9</td>\n",
       "      <td>[]</td>\n",
       "      <td>2018-12-08 13:06:55.793</td>\n",
       "      <td>trhaemruaktiinpaahlply@gmail.com</td>\n",
       "    </tr>\n",
       "    <tr>\n",
       "      <th>4234</th>\n",
       "      <td>5c0bdcdd3557264bd91b8483</td>\n",
       "      <td>[]</td>\n",
       "      <td>2018-12-08 15:01:49.700</td>\n",
       "      <td>k8u1m8a1rpaono@gmail.com1</td>\n",
       "    </tr>\n",
       "    <tr>\n",
       "      <th>4324</th>\n",
       "      <td>5c0092585e6efb28585ab6c3</td>\n",
       "      <td>[]</td>\n",
       "      <td>2018-11-30 01:28:56.852</td>\n",
       "      <td>y8e4sywraandtwhoch@gmail.com</td>\n",
       "    </tr>\n",
       "    <tr>\n",
       "      <th>4392</th>\n",
       "      <td>5c0092625e6efb28585ab812</td>\n",
       "      <td>[ObjectId('5c080f85b84cbc2f300b0f90'), ObjectI...</td>\n",
       "      <td>2018-11-30 01:29:06.785</td>\n",
       "      <td>m2o3h2i3tnsi@gmail.com</td>\n",
       "    </tr>\n",
       "    <tr>\n",
       "      <th>4433</th>\n",
       "      <td>5c0bdcdf35572668331b8486</td>\n",
       "      <td>[]</td>\n",
       "      <td>2018-12-08 15:01:51.948</td>\n",
       "      <td>k8u1m8a1rpaono@gmail.com1</td>\n",
       "    </tr>\n",
       "    <tr>\n",
       "      <th>4467</th>\n",
       "      <td>5c00927d5e6efb28585abb7d</td>\n",
       "      <td>[]</td>\n",
       "      <td>2018-11-30 01:29:33.306</td>\n",
       "      <td>r2a6nliakja@gmail.com</td>\n",
       "    </tr>\n",
       "    <tr>\n",
       "      <th>4582</th>\n",
       "      <td>5c0c0c1fac032d621846b3db</td>\n",
       "      <td>[]</td>\n",
       "      <td>2018-12-08 18:23:27.650</td>\n",
       "      <td>m2o3h2i3tnsi@gmail.com</td>\n",
       "    </tr>\n",
       "    <tr>\n",
       "      <th>4871</th>\n",
       "      <td>5c0091aa5e6efb28585a9e13</td>\n",
       "      <td>[ObjectId('5b4ef4591e9b05000db67bda'), ObjectI...</td>\n",
       "      <td>2018-11-30 01:26:02.126</td>\n",
       "      <td>wiansaavdiehs@gmail.com</td>\n",
       "    </tr>\n",
       "    <tr>\n",
       "      <th>4878</th>\n",
       "      <td>5c0091ab5e6efb28585a9e3b</td>\n",
       "      <td>[ObjectId('5c081144b84cbc16af0b18d0'), ObjectI...</td>\n",
       "      <td>2018-11-30 01:26:03.096</td>\n",
       "      <td>sah3i2v1ayndidre@gmail.com</td>\n",
       "    </tr>\n",
       "    <tr>\n",
       "      <th>4988</th>\n",
       "      <td>5c0091b75e6efb28585aa034</td>\n",
       "      <td>[ObjectId('5c080f85b84cbc2f300b0f90'), ObjectI...</td>\n",
       "      <td>2018-11-30 01:26:15.793</td>\n",
       "      <td>s7h9iavratmabh@gmail.com</td>\n",
       "    </tr>\n",
       "    <tr>\n",
       "      <th>5018</th>\n",
       "      <td>5c1f97cc4f88b516a812c6c0</td>\n",
       "      <td>[]</td>\n",
       "      <td>2018-12-23 14:12:28.915</td>\n",
       "      <td>7402948226</td>\n",
       "    </tr>\n",
       "    <tr>\n",
       "      <th>5023</th>\n",
       "      <td>5c1f97cfd6f8e88099585149</td>\n",
       "      <td>[]</td>\n",
       "      <td>2018-12-23 14:12:31.546</td>\n",
       "      <td>7402948226</td>\n",
       "    </tr>\n",
       "    <tr>\n",
       "      <th>5024</th>\n",
       "      <td>5c1dd4769943bf55470d89f8</td>\n",
       "      <td>[]</td>\n",
       "      <td>2018-12-22 06:06:46.573</td>\n",
       "      <td>7974385720</td>\n",
       "    </tr>\n",
       "    <tr>\n",
       "      <th>5025</th>\n",
       "      <td>5c1dd4759943bfd7120d89f7</td>\n",
       "      <td>[]</td>\n",
       "      <td>2018-12-22 06:06:45.999</td>\n",
       "      <td>7974385720</td>\n",
       "    </tr>\n",
       "    <tr>\n",
       "      <th>5051</th>\n",
       "      <td>5c0091bb5e6efb28585aa0cf</td>\n",
       "      <td>[ObjectId('5c080f85b84cbc2f300b0f90'), ObjectI...</td>\n",
       "      <td>2018-11-30 01:26:19.619</td>\n",
       "      <td>m8e5g0h9arkaakk@gmail.com</td>\n",
       "    </tr>\n",
       "    <tr>\n",
       "      <th>5633</th>\n",
       "      <td>5c0091fe5e6efb28585aaaac</td>\n",
       "      <td>[ObjectId('5c080f70b84cbc62830b0eda'), ObjectI...</td>\n",
       "      <td>2018-11-30 01:27:26.157</td>\n",
       "      <td>a3y3u7s.hr.apdod@gmail.com</td>\n",
       "    </tr>\n",
       "  </tbody>\n",
       "</table>\n",
       "</div>"
      ],
      "text/plain": [
       "                           _id  \\\n",
       "1272  5ba5c86623826634308f3d66   \n",
       "1322  5ba5c8662382664c1f8f3d67   \n",
       "1436  5ba5ccef238266a33e8f407c   \n",
       "1440  5ba5ccef23826641da8f407b   \n",
       "3489  5c08ac15f7bcf65556f2baec   \n",
       "3506  5c093d5f48b35cae24df8166   \n",
       "3534  5c095527b84cbc79290b2a1d   \n",
       "3543  5c0a5ed30abd0061058afe30   \n",
       "3591  5c0092055e6efb28585aabc4   \n",
       "3821  5c0b30b1a6f75c3c2d8a0aea   \n",
       "3826  5c0b5f26ac032d574446a805   \n",
       "3832  5c0092265e6efb28585ab038   \n",
       "4088  5c0ba17da6f75cd32d8a10f1   \n",
       "4097  5c0bac1c1edf954f6dd890f4   \n",
       "4160  5c0bc1ef48b35cd4a1df92c9   \n",
       "4234  5c0bdcdd3557264bd91b8483   \n",
       "4324  5c0092585e6efb28585ab6c3   \n",
       "4392  5c0092625e6efb28585ab812   \n",
       "4433  5c0bdcdf35572668331b8486   \n",
       "4467  5c00927d5e6efb28585abb7d   \n",
       "4582  5c0c0c1fac032d621846b3db   \n",
       "4871  5c0091aa5e6efb28585a9e13   \n",
       "4878  5c0091ab5e6efb28585a9e3b   \n",
       "4988  5c0091b75e6efb28585aa034   \n",
       "5018  5c1f97cc4f88b516a812c6c0   \n",
       "5023  5c1f97cfd6f8e88099585149   \n",
       "5024  5c1dd4769943bf55470d89f8   \n",
       "5025  5c1dd4759943bfd7120d89f7   \n",
       "5051  5c0091bb5e6efb28585aa0cf   \n",
       "5633  5c0091fe5e6efb28585aaaac   \n",
       "\n",
       "                                      practiceAttempted  \\\n",
       "1272                                                 []   \n",
       "1322                                                 []   \n",
       "1436                                                 []   \n",
       "1440                                                 []   \n",
       "3489                                                 []   \n",
       "3506                                                 []   \n",
       "3534                                                 []   \n",
       "3543                                                 []   \n",
       "3591                                                 []   \n",
       "3821                                                 []   \n",
       "3826                                                 []   \n",
       "3832             [ObjectId('5be079996ee33b5121c9e559')]   \n",
       "4088                                                 []   \n",
       "4097  [ObjectId('5c5d36cf4d6d6bdd4d6474f2'), ObjectI...   \n",
       "4160                                                 []   \n",
       "4234                                                 []   \n",
       "4324                                                 []   \n",
       "4392  [ObjectId('5c080f85b84cbc2f300b0f90'), ObjectI...   \n",
       "4433                                                 []   \n",
       "4467                                                 []   \n",
       "4582                                                 []   \n",
       "4871  [ObjectId('5b4ef4591e9b05000db67bda'), ObjectI...   \n",
       "4878  [ObjectId('5c081144b84cbc16af0b18d0'), ObjectI...   \n",
       "4988  [ObjectId('5c080f85b84cbc2f300b0f90'), ObjectI...   \n",
       "5018                                                 []   \n",
       "5023                                                 []   \n",
       "5024                                                 []   \n",
       "5025                                                 []   \n",
       "5051  [ObjectId('5c080f85b84cbc2f300b0f90'), ObjectI...   \n",
       "5633  [ObjectId('5c080f70b84cbc62830b0eda'), ObjectI...   \n",
       "\n",
       "                    updatedAt                            userId  \n",
       "1272  2018-09-22 04:43:18.602                        9432472763  \n",
       "1322  2018-09-22 04:43:18.634                        9432472763  \n",
       "1436  2018-09-22 05:02:39.351                        9982594518  \n",
       "1440  2018-09-22 05:02:39.317                        9982594518  \n",
       "3489  2018-12-06 04:56:53.926          s7h9iavratmabh@gmail.com  \n",
       "3506  2018-12-06 15:16:47.615            akn.uadkeiep@gmail.com  \n",
       "3534  2018-12-06 16:58:15.039        sah3i2v1ayndidre@gmail.com  \n",
       "3543  2018-12-07 11:51:47.381        a3y3u7s.hr.apdod@gmail.com  \n",
       "3591  2018-11-30 01:27:33.597  trhaemruaktiinpaahlply@gmail.com  \n",
       "3821  2018-12-08 02:47:13.004           wiansaavdiehs@gmail.com  \n",
       "3826  2018-12-08 06:05:26.012      y8e4sywraandtwhoch@gmail.com  \n",
       "3832  2018-11-30 01:28:06.943            akn.uadkeiep@gmail.com  \n",
       "4088  2018-12-08 10:48:29.856             r2a6nliakja@gmail.com  \n",
       "4097  2018-12-08 11:33:48.247         m8e5g0h9arkaakk@gmail.com  \n",
       "4160  2018-12-08 13:06:55.793  trhaemruaktiinpaahlply@gmail.com  \n",
       "4234  2018-12-08 15:01:49.700         k8u1m8a1rpaono@gmail.com1  \n",
       "4324  2018-11-30 01:28:56.852      y8e4sywraandtwhoch@gmail.com  \n",
       "4392  2018-11-30 01:29:06.785            m2o3h2i3tnsi@gmail.com  \n",
       "4433  2018-12-08 15:01:51.948         k8u1m8a1rpaono@gmail.com1  \n",
       "4467  2018-11-30 01:29:33.306             r2a6nliakja@gmail.com  \n",
       "4582  2018-12-08 18:23:27.650            m2o3h2i3tnsi@gmail.com  \n",
       "4871  2018-11-30 01:26:02.126           wiansaavdiehs@gmail.com  \n",
       "4878  2018-11-30 01:26:03.096        sah3i2v1ayndidre@gmail.com  \n",
       "4988  2018-11-30 01:26:15.793          s7h9iavratmabh@gmail.com  \n",
       "5018  2018-12-23 14:12:28.915                        7402948226  \n",
       "5023  2018-12-23 14:12:31.546                        7402948226  \n",
       "5024  2018-12-22 06:06:46.573                        7974385720  \n",
       "5025  2018-12-22 06:06:45.999                        7974385720  \n",
       "5051  2018-11-30 01:26:19.619         m8e5g0h9arkaakk@gmail.com  \n",
       "5633  2018-11-30 01:27:26.157        a3y3u7s.hr.apdod@gmail.com  "
      ]
     },
     "execution_count": 10,
     "metadata": {},
     "output_type": "execute_result"
    }
   ],
   "source": [
    "# So there are like 15 duplicates lets look into those userId's\n",
    "users_df[users_df.userId.duplicated(keep=False)]"
   ]
  },
  {
   "cell_type": "markdown",
   "metadata": {},
   "source": [
    "### so there are some duplicate userId's present lets keep the latest updated userId.\n",
    "### For this lets sort out users dataframe updatedat column and later removing the first duplicate"
   ]
  },
  {
   "cell_type": "code",
   "execution_count": 11,
   "metadata": {},
   "outputs": [
    {
     "data": {
      "text/html": [
       "<div>\n",
       "<style scoped>\n",
       "    .dataframe tbody tr th:only-of-type {\n",
       "        vertical-align: middle;\n",
       "    }\n",
       "\n",
       "    .dataframe tbody tr th {\n",
       "        vertical-align: top;\n",
       "    }\n",
       "\n",
       "    .dataframe thead th {\n",
       "        text-align: right;\n",
       "    }\n",
       "</style>\n",
       "<table border=\"1\" class=\"dataframe\">\n",
       "  <thead>\n",
       "    <tr style=\"text-align: right;\">\n",
       "      <th></th>\n",
       "      <th>_id</th>\n",
       "      <th>practiceAttempted</th>\n",
       "      <th>updatedAt</th>\n",
       "      <th>userId</th>\n",
       "    </tr>\n",
       "  </thead>\n",
       "  <tbody>\n",
       "    <tr>\n",
       "      <th>6104</th>\n",
       "      <td>5c5f30e8fc459a7e480d56c3</td>\n",
       "      <td>[]</td>\n",
       "      <td>2019-02-09 19:58:32.569</td>\n",
       "      <td>a4l1o4kira@gmail.com</td>\n",
       "    </tr>\n",
       "    <tr>\n",
       "      <th>6103</th>\n",
       "      <td>5c5ee905e463cb21fd783d23</td>\n",
       "      <td>[]</td>\n",
       "      <td>2019-02-09 14:51:49.103</td>\n",
       "      <td>l9p0u116116@gmail.com</td>\n",
       "    </tr>\n",
       "    <tr>\n",
       "      <th>6102</th>\n",
       "      <td>5c5ed7f9408e7311f7d8883d</td>\n",
       "      <td>[]</td>\n",
       "      <td>2019-02-09 13:39:05.695</td>\n",
       "      <td>r4a3h0u5l2s5i2n2gh@gmail.com</td>\n",
       "    </tr>\n",
       "    <tr>\n",
       "      <th>6101</th>\n",
       "      <td>5c5eb8aefc459a3db20d482c</td>\n",
       "      <td>[ObjectId('5be081a56ee33b8628c9e57d')]</td>\n",
       "      <td>2019-02-09 11:25:34.515</td>\n",
       "      <td>p9u9nuedentahhc@gmail.com</td>\n",
       "    </tr>\n",
       "    <tr>\n",
       "      <th>6100</th>\n",
       "      <td>5c5eb2cc4c010c7082a228ed</td>\n",
       "      <td>[]</td>\n",
       "      <td>2019-02-09 11:00:28.468</td>\n",
       "      <td>a2n1u5s2hyklaelvo@gamil.com</td>\n",
       "    </tr>\n",
       "  </tbody>\n",
       "</table>\n",
       "</div>"
      ],
      "text/plain": [
       "                           _id                       practiceAttempted  \\\n",
       "6104  5c5f30e8fc459a7e480d56c3                                      []   \n",
       "6103  5c5ee905e463cb21fd783d23                                      []   \n",
       "6102  5c5ed7f9408e7311f7d8883d                                      []   \n",
       "6101  5c5eb8aefc459a3db20d482c  [ObjectId('5be081a56ee33b8628c9e57d')]   \n",
       "6100  5c5eb2cc4c010c7082a228ed                                      []   \n",
       "\n",
       "                    updatedAt                        userId  \n",
       "6104  2019-02-09 19:58:32.569          a4l1o4kira@gmail.com  \n",
       "6103  2019-02-09 14:51:49.103         l9p0u116116@gmail.com  \n",
       "6102  2019-02-09 13:39:05.695  r4a3h0u5l2s5i2n2gh@gmail.com  \n",
       "6101  2019-02-09 11:25:34.515     p9u9nuedentahhc@gmail.com  \n",
       "6100  2019-02-09 11:00:28.468   a2n1u5s2hyklaelvo@gamil.com  "
      ]
     },
     "execution_count": 11,
     "metadata": {},
     "output_type": "execute_result"
    }
   ],
   "source": [
    "users_df.sort_values('updatedAt', ascending=False, inplace=True)\n",
    "users_df.head()"
   ]
  },
  {
   "cell_type": "code",
   "execution_count": 12,
   "metadata": {},
   "outputs": [
    {
     "data": {
      "text/plain": [
       "(6092, 4)"
      ]
     },
     "execution_count": 12,
     "metadata": {},
     "output_type": "execute_result"
    }
   ],
   "source": [
    "# now lets remove those duplicate userId observations.\n",
    "users_df.drop_duplicates(subset='userId', inplace=True)\n",
    "users_df.shape"
   ]
  },
  {
   "cell_type": "code",
   "execution_count": 13,
   "metadata": {},
   "outputs": [
    {
     "data": {
      "text/plain": [
       "Index(['__v', '_id', 'attemptType', 'attemptdetails', 'createdAt',\n",
       "       'createdBy.name', 'createdBy.user', 'email', 'idOffline', 'isAbandoned',\n",
       "       'isAnsync', 'isCratedOffline', 'isEvaluated', 'isShowAttempt',\n",
       "       'isfraudelent', 'maximumMarks', 'minusMark', 'offscreenTime', 'partial',\n",
       "       'pending', 'plusMark', 'practiceSetInfo.accessMode',\n",
       "       'practiceSetInfo.classRooms', 'practiceSetInfo.createdBy',\n",
       "       'practiceSetInfo.grades._id', 'practiceSetInfo.grades.level',\n",
       "       'practiceSetInfo.grades.name', 'practiceSetInfo.subject',\n",
       "       'practiceSetInfo.title', 'practiceSetInfo.titleLower', 'practicesetId',\n",
       "       'studentName', 'subjects', 'totalCorrects', 'totalErrors', 'totalMark',\n",
       "       'totalMarkeds', 'totalMissed', 'totalQuestions', 'totalTime',\n",
       "       'updatedAt', 'user', 'userId'],\n",
       "      dtype='object')"
      ]
     },
     "execution_count": 13,
     "metadata": {},
     "output_type": "execute_result"
    }
   ],
   "source": [
    "# so duplicate userId observations are dropped.\n",
    "# Now lets select important features from attempts dataframe\n",
    "attempts_df.columns"
   ]
  },
  {
   "cell_type": "code",
   "execution_count": 14,
   "metadata": {},
   "outputs": [
    {
     "data": {
      "text/plain": [
       "Placement Readiness Tests                  30648\n",
       "Programming                                 2319\n",
       "Computer Science & Engineering              1571\n",
       "Mechanical Engineering                       503\n",
       "Electronics & Communication Engineering      466\n",
       "Civil Engineering                            124\n",
       "Electrical Engineering                       106\n",
       "Name: practiceSetInfo.grades.name, dtype: int64"
      ]
     },
     "execution_count": 14,
     "metadata": {},
     "output_type": "execute_result"
    }
   ],
   "source": [
    "attempts_df['practiceSetInfo.grades.name'].value_counts()"
   ]
  },
  {
   "cell_type": "code",
   "execution_count": 15,
   "metadata": {},
   "outputs": [
    {
     "data": {
      "text/html": [
       "<div>\n",
       "<style scoped>\n",
       "    .dataframe tbody tr th:only-of-type {\n",
       "        vertical-align: middle;\n",
       "    }\n",
       "\n",
       "    .dataframe tbody tr th {\n",
       "        vertical-align: top;\n",
       "    }\n",
       "\n",
       "    .dataframe thead th {\n",
       "        text-align: right;\n",
       "    }\n",
       "</style>\n",
       "<table border=\"1\" class=\"dataframe\">\n",
       "  <thead>\n",
       "    <tr style=\"text-align: right;\">\n",
       "      <th></th>\n",
       "      <th>_id</th>\n",
       "      <th>user</th>\n",
       "      <th>isAbandoned</th>\n",
       "      <th>maximumMarks</th>\n",
       "      <th>practiceSetInfo.grades.name</th>\n",
       "      <th>totalCorrects</th>\n",
       "      <th>totalErrors</th>\n",
       "      <th>totalMark</th>\n",
       "      <th>totalMissed</th>\n",
       "      <th>totalTime</th>\n",
       "    </tr>\n",
       "  </thead>\n",
       "  <tbody>\n",
       "    <tr>\n",
       "      <th>0</th>\n",
       "      <td>5b851ffdb0a5d1ad413d8301</td>\n",
       "      <td>5b82922edd6c9c6e6db00fb0</td>\n",
       "      <td>False</td>\n",
       "      <td>55</td>\n",
       "      <td>Placement Readiness Tests</td>\n",
       "      <td>35</td>\n",
       "      <td>20</td>\n",
       "      <td>35.0</td>\n",
       "      <td>0</td>\n",
       "      <td>2887958</td>\n",
       "    </tr>\n",
       "    <tr>\n",
       "      <th>1</th>\n",
       "      <td>5b852003b0a5d136aa3d8371</td>\n",
       "      <td>5b829227dd6c9c4c7fb00da0</td>\n",
       "      <td>False</td>\n",
       "      <td>55</td>\n",
       "      <td>Placement Readiness Tests</td>\n",
       "      <td>31</td>\n",
       "      <td>24</td>\n",
       "      <td>31.0</td>\n",
       "      <td>0</td>\n",
       "      <td>3300006</td>\n",
       "    </tr>\n",
       "    <tr>\n",
       "      <th>2</th>\n",
       "      <td>5b851ff7dd6c9c8cedb051d3</td>\n",
       "      <td>5b82922cdd6c9c2801b00f20</td>\n",
       "      <td>False</td>\n",
       "      <td>55</td>\n",
       "      <td>Placement Readiness Tests</td>\n",
       "      <td>25</td>\n",
       "      <td>9</td>\n",
       "      <td>25.0</td>\n",
       "      <td>21</td>\n",
       "      <td>3299999</td>\n",
       "    </tr>\n",
       "    <tr>\n",
       "      <th>3</th>\n",
       "      <td>5b852014b0a5d10fc33d83e4</td>\n",
       "      <td>5b82922add6c9c5f61b00e6a</td>\n",
       "      <td>False</td>\n",
       "      <td>55</td>\n",
       "      <td>Placement Readiness Tests</td>\n",
       "      <td>29</td>\n",
       "      <td>15</td>\n",
       "      <td>29.0</td>\n",
       "      <td>11</td>\n",
       "      <td>3300049</td>\n",
       "    </tr>\n",
       "    <tr>\n",
       "      <th>4</th>\n",
       "      <td>5b85200948598b0aa6eabf57</td>\n",
       "      <td>5b82922edd6c9cd998b00f86</td>\n",
       "      <td>False</td>\n",
       "      <td>55</td>\n",
       "      <td>Placement Readiness Tests</td>\n",
       "      <td>16</td>\n",
       "      <td>19</td>\n",
       "      <td>16.0</td>\n",
       "      <td>20</td>\n",
       "      <td>3300005</td>\n",
       "    </tr>\n",
       "  </tbody>\n",
       "</table>\n",
       "</div>"
      ],
      "text/plain": [
       "                        _id                      user  isAbandoned  \\\n",
       "0  5b851ffdb0a5d1ad413d8301  5b82922edd6c9c6e6db00fb0        False   \n",
       "1  5b852003b0a5d136aa3d8371  5b829227dd6c9c4c7fb00da0        False   \n",
       "2  5b851ff7dd6c9c8cedb051d3  5b82922cdd6c9c2801b00f20        False   \n",
       "3  5b852014b0a5d10fc33d83e4  5b82922add6c9c5f61b00e6a        False   \n",
       "4  5b85200948598b0aa6eabf57  5b82922edd6c9cd998b00f86        False   \n",
       "\n",
       "   maximumMarks practiceSetInfo.grades.name  totalCorrects  totalErrors  \\\n",
       "0            55   Placement Readiness Tests             35           20   \n",
       "1            55   Placement Readiness Tests             31           24   \n",
       "2            55   Placement Readiness Tests             25            9   \n",
       "3            55   Placement Readiness Tests             29           15   \n",
       "4            55   Placement Readiness Tests             16           19   \n",
       "\n",
       "   totalMark  totalMissed  totalTime  \n",
       "0       35.0            0    2887958  \n",
       "1       31.0            0    3300006  \n",
       "2       25.0           21    3299999  \n",
       "3       29.0           11    3300049  \n",
       "4       16.0           20    3300005  "
      ]
     },
     "execution_count": 15,
     "metadata": {},
     "output_type": "execute_result"
    }
   ],
   "source": [
    "# for our first objective we only need the following features.\n",
    "imp_features = ['_id','user','isAbandoned', 'maximumMarks', \\\n",
    "                'practiceSetInfo.grades.name', \\\n",
    "                'totalCorrects', 'totalErrors',\\\n",
    "                'totalMark', 'totalMissed', \\\n",
    "                'totalTime',]\n",
    "attempts_df = attempts_df[imp_features]\n",
    "attempts_df.head()"
   ]
  },
  {
   "cell_type": "code",
   "execution_count": 16,
   "metadata": {},
   "outputs": [
    {
     "data": {
      "text/html": [
       "<div>\n",
       "<style scoped>\n",
       "    .dataframe tbody tr th:only-of-type {\n",
       "        vertical-align: middle;\n",
       "    }\n",
       "\n",
       "    .dataframe tbody tr th {\n",
       "        vertical-align: top;\n",
       "    }\n",
       "\n",
       "    .dataframe thead th {\n",
       "        text-align: right;\n",
       "    }\n",
       "</style>\n",
       "<table border=\"1\" class=\"dataframe\">\n",
       "  <thead>\n",
       "    <tr style=\"text-align: right;\">\n",
       "      <th></th>\n",
       "      <th>QA</th>\n",
       "      <th>__v</th>\n",
       "      <th>_id</th>\n",
       "      <th>attempt</th>\n",
       "      <th>createdAt</th>\n",
       "      <th>isAbandoned</th>\n",
       "      <th>practicesetId</th>\n",
       "      <th>updatedAt</th>\n",
       "      <th>user</th>\n",
       "    </tr>\n",
       "  </thead>\n",
       "  <tbody>\n",
       "    <tr>\n",
       "      <th>0</th>\n",
       "      <td>[{'question': ObjectId('5b82ecb0dd6c9c00e1b018...</td>\n",
       "      <td>0</td>\n",
       "      <td>5b83d566af15dcb2402312df</td>\n",
       "      <td>5b83d566af15dc6d322312de</td>\n",
       "      <td>2018-08-27 10:41:42.351</td>\n",
       "      <td>False</td>\n",
       "      <td>5b82ecb0dd6c9c3785b01856</td>\n",
       "      <td>2018-08-27 10:41:42.351</td>\n",
       "      <td>5b82922cdd6c9c67f5b00ef6</td>\n",
       "    </tr>\n",
       "    <tr>\n",
       "      <th>1</th>\n",
       "      <td>[{'question': ObjectId('5b82ecb0dd6c9c00e1b018...</td>\n",
       "      <td>0</td>\n",
       "      <td>5b83d5723a227f518ce1770b</td>\n",
       "      <td>5b83d5723a227f350be1770a</td>\n",
       "      <td>2018-08-27 10:41:54.195</td>\n",
       "      <td>False</td>\n",
       "      <td>5b82ecb0dd6c9c3785b01856</td>\n",
       "      <td>2018-08-27 10:41:54.195</td>\n",
       "      <td>5b82922edd6c9c0c57b00f90</td>\n",
       "    </tr>\n",
       "    <tr>\n",
       "      <th>2</th>\n",
       "      <td>[{'question': ObjectId('5b82ecb0dd6c9c00e1b018...</td>\n",
       "      <td>0</td>\n",
       "      <td>5b83d57edd6c9c2b7db02a8f</td>\n",
       "      <td>5b83d57edd6c9c8ec5b02a8e</td>\n",
       "      <td>2018-08-27 10:42:06.566</td>\n",
       "      <td>False</td>\n",
       "      <td>5b82ecb0dd6c9c3785b01856</td>\n",
       "      <td>2018-08-27 10:42:06.566</td>\n",
       "      <td>5b82922edd6c9c52c9b00fbe</td>\n",
       "    </tr>\n",
       "    <tr>\n",
       "      <th>3</th>\n",
       "      <td>[{'question': ObjectId('5b82ecb0dd6c9c00e1b018...</td>\n",
       "      <td>0</td>\n",
       "      <td>5b83d58648598b77a0ea8a2a</td>\n",
       "      <td>5b83d58548598bb42dea8a29</td>\n",
       "      <td>2018-08-27 10:42:14.080</td>\n",
       "      <td>False</td>\n",
       "      <td>5b82ecb0dd6c9c3785b01856</td>\n",
       "      <td>2018-08-27 10:42:14.080</td>\n",
       "      <td>5b82922edd6c9c55fbb00f92</td>\n",
       "    </tr>\n",
       "    <tr>\n",
       "      <th>4</th>\n",
       "      <td>[{'question': ObjectId('5b82ecb0dd6c9c00e1b018...</td>\n",
       "      <td>0</td>\n",
       "      <td>5b83d58c48598b0d31ea8a8c</td>\n",
       "      <td>5b83d58c48598bec32ea8a8b</td>\n",
       "      <td>2018-08-27 10:42:20.879</td>\n",
       "      <td>False</td>\n",
       "      <td>5b82ecb0dd6c9c3785b01856</td>\n",
       "      <td>2018-08-27 10:42:20.879</td>\n",
       "      <td>5b829227dd6c9c9dacb00da2</td>\n",
       "    </tr>\n",
       "  </tbody>\n",
       "</table>\n",
       "</div>"
      ],
      "text/plain": [
       "                                                  QA  __v  \\\n",
       "0  [{'question': ObjectId('5b82ecb0dd6c9c00e1b018...    0   \n",
       "1  [{'question': ObjectId('5b82ecb0dd6c9c00e1b018...    0   \n",
       "2  [{'question': ObjectId('5b82ecb0dd6c9c00e1b018...    0   \n",
       "3  [{'question': ObjectId('5b82ecb0dd6c9c00e1b018...    0   \n",
       "4  [{'question': ObjectId('5b82ecb0dd6c9c00e1b018...    0   \n",
       "\n",
       "                        _id                   attempt  \\\n",
       "0  5b83d566af15dcb2402312df  5b83d566af15dc6d322312de   \n",
       "1  5b83d5723a227f518ce1770b  5b83d5723a227f350be1770a   \n",
       "2  5b83d57edd6c9c2b7db02a8f  5b83d57edd6c9c8ec5b02a8e   \n",
       "3  5b83d58648598b77a0ea8a2a  5b83d58548598bb42dea8a29   \n",
       "4  5b83d58c48598b0d31ea8a8c  5b83d58c48598bec32ea8a8b   \n",
       "\n",
       "                 createdAt  isAbandoned             practicesetId  \\\n",
       "0  2018-08-27 10:41:42.351        False  5b82ecb0dd6c9c3785b01856   \n",
       "1  2018-08-27 10:41:54.195        False  5b82ecb0dd6c9c3785b01856   \n",
       "2  2018-08-27 10:42:06.566        False  5b82ecb0dd6c9c3785b01856   \n",
       "3  2018-08-27 10:42:14.080        False  5b82ecb0dd6c9c3785b01856   \n",
       "4  2018-08-27 10:42:20.879        False  5b82ecb0dd6c9c3785b01856   \n",
       "\n",
       "                 updatedAt                      user  \n",
       "0  2018-08-27 10:41:42.351  5b82922cdd6c9c67f5b00ef6  \n",
       "1  2018-08-27 10:41:54.195  5b82922edd6c9c0c57b00f90  \n",
       "2  2018-08-27 10:42:06.566  5b82922edd6c9c52c9b00fbe  \n",
       "3  2018-08-27 10:42:14.080  5b82922edd6c9c55fbb00f92  \n",
       "4  2018-08-27 10:42:20.879  5b829227dd6c9c9dacb00da2  "
      ]
     },
     "execution_count": 16,
     "metadata": {},
     "output_type": "execute_result"
    }
   ],
   "source": [
    "# so we took only 8 important features for our analysis for attempts dataframe\n",
    "# As attemptdetails has very less features, I think there is no need to drop any features\n",
    "attemptdetails_df.head()"
   ]
  },
  {
   "cell_type": "markdown",
   "metadata": {},
   "source": [
    "## Exploratory data analysis"
   ]
  },
  {
   "cell_type": "markdown",
   "metadata": {},
   "source": [
    "### from the problem statement we know that we only work with test attempts where isAbandoned is set to False\n",
    "### Lets see whether any student abandoned the test"
   ]
  },
  {
   "cell_type": "code",
   "execution_count": 17,
   "metadata": {},
   "outputs": [
    {
     "data": {
      "text/plain": [
       "False    33946\n",
       "True      1791\n",
       "Name: isAbandoned, dtype: int64"
      ]
     },
     "execution_count": 17,
     "metadata": {},
     "output_type": "execute_result"
    }
   ],
   "source": [
    "attempts_df.isAbandoned.value_counts()"
   ]
  },
  {
   "cell_type": "markdown",
   "metadata": {},
   "source": [
    "1. so there are total 33946 observations where student took the complete test\n",
    "2. and 1791 observations where students abondoned the test\n",
    "3. So according to problem statement we only work with observations where student took test\n",
    "4. So I will delete all the observation having isAbandoned equal to True"
   ]
  },
  {
   "cell_type": "code",
   "execution_count": 18,
   "metadata": {},
   "outputs": [],
   "source": [
    "attempts_df.drop(attempts_df[attempts_df['isAbandoned'] == True].index, inplace=True)"
   ]
  },
  {
   "cell_type": "code",
   "execution_count": 19,
   "metadata": {},
   "outputs": [
    {
     "data": {
      "text/plain": [
       "False    33946\n",
       "Name: isAbandoned, dtype: int64"
      ]
     },
     "execution_count": 19,
     "metadata": {},
     "output_type": "execute_result"
    }
   ],
   "source": [
    "# lets relook whether every observation with True Abandoned is deleted from dataframe\n",
    "attempts_df.isAbandoned.value_counts()"
   ]
  },
  {
   "cell_type": "markdown",
   "metadata": {},
   "source": [
    "## Objective 1:  Does more practice mean better performance?\n",
    "1. Here to answer this objective first we have to find what metric we have to use that represents practice of student.\n",
    "2. Also what metric best describes the performance of the student.\n",
    "3. Lets explore the dataset to get the answers of these two questions."
   ]
  },
  {
   "cell_type": "code",
   "execution_count": 20,
   "metadata": {},
   "outputs": [
    {
     "data": {
      "text/html": [
       "<div>\n",
       "<style scoped>\n",
       "    .dataframe tbody tr th:only-of-type {\n",
       "        vertical-align: middle;\n",
       "    }\n",
       "\n",
       "    .dataframe tbody tr th {\n",
       "        vertical-align: top;\n",
       "    }\n",
       "\n",
       "    .dataframe thead th {\n",
       "        text-align: right;\n",
       "    }\n",
       "</style>\n",
       "<table border=\"1\" class=\"dataframe\">\n",
       "  <thead>\n",
       "    <tr style=\"text-align: right;\">\n",
       "      <th></th>\n",
       "      <th>_id</th>\n",
       "      <th>user</th>\n",
       "      <th>isAbandoned</th>\n",
       "      <th>maximumMarks</th>\n",
       "      <th>practiceSetInfo.grades.name</th>\n",
       "      <th>totalCorrects</th>\n",
       "      <th>totalErrors</th>\n",
       "      <th>totalMark</th>\n",
       "      <th>totalMissed</th>\n",
       "      <th>totalTime</th>\n",
       "    </tr>\n",
       "  </thead>\n",
       "  <tbody>\n",
       "    <tr>\n",
       "      <th>0</th>\n",
       "      <td>5b851ffdb0a5d1ad413d8301</td>\n",
       "      <td>5b82922edd6c9c6e6db00fb0</td>\n",
       "      <td>False</td>\n",
       "      <td>55</td>\n",
       "      <td>Placement Readiness Tests</td>\n",
       "      <td>35</td>\n",
       "      <td>20</td>\n",
       "      <td>35.0</td>\n",
       "      <td>0</td>\n",
       "      <td>2887958</td>\n",
       "    </tr>\n",
       "    <tr>\n",
       "      <th>1</th>\n",
       "      <td>5b852003b0a5d136aa3d8371</td>\n",
       "      <td>5b829227dd6c9c4c7fb00da0</td>\n",
       "      <td>False</td>\n",
       "      <td>55</td>\n",
       "      <td>Placement Readiness Tests</td>\n",
       "      <td>31</td>\n",
       "      <td>24</td>\n",
       "      <td>31.0</td>\n",
       "      <td>0</td>\n",
       "      <td>3300006</td>\n",
       "    </tr>\n",
       "    <tr>\n",
       "      <th>2</th>\n",
       "      <td>5b851ff7dd6c9c8cedb051d3</td>\n",
       "      <td>5b82922cdd6c9c2801b00f20</td>\n",
       "      <td>False</td>\n",
       "      <td>55</td>\n",
       "      <td>Placement Readiness Tests</td>\n",
       "      <td>25</td>\n",
       "      <td>9</td>\n",
       "      <td>25.0</td>\n",
       "      <td>21</td>\n",
       "      <td>3299999</td>\n",
       "    </tr>\n",
       "    <tr>\n",
       "      <th>3</th>\n",
       "      <td>5b852014b0a5d10fc33d83e4</td>\n",
       "      <td>5b82922add6c9c5f61b00e6a</td>\n",
       "      <td>False</td>\n",
       "      <td>55</td>\n",
       "      <td>Placement Readiness Tests</td>\n",
       "      <td>29</td>\n",
       "      <td>15</td>\n",
       "      <td>29.0</td>\n",
       "      <td>11</td>\n",
       "      <td>3300049</td>\n",
       "    </tr>\n",
       "    <tr>\n",
       "      <th>4</th>\n",
       "      <td>5b85200948598b0aa6eabf57</td>\n",
       "      <td>5b82922edd6c9cd998b00f86</td>\n",
       "      <td>False</td>\n",
       "      <td>55</td>\n",
       "      <td>Placement Readiness Tests</td>\n",
       "      <td>16</td>\n",
       "      <td>19</td>\n",
       "      <td>16.0</td>\n",
       "      <td>20</td>\n",
       "      <td>3300005</td>\n",
       "    </tr>\n",
       "  </tbody>\n",
       "</table>\n",
       "</div>"
      ],
      "text/plain": [
       "                        _id                      user  isAbandoned  \\\n",
       "0  5b851ffdb0a5d1ad413d8301  5b82922edd6c9c6e6db00fb0        False   \n",
       "1  5b852003b0a5d136aa3d8371  5b829227dd6c9c4c7fb00da0        False   \n",
       "2  5b851ff7dd6c9c8cedb051d3  5b82922cdd6c9c2801b00f20        False   \n",
       "3  5b852014b0a5d10fc33d83e4  5b82922add6c9c5f61b00e6a        False   \n",
       "4  5b85200948598b0aa6eabf57  5b82922edd6c9cd998b00f86        False   \n",
       "\n",
       "   maximumMarks practiceSetInfo.grades.name  totalCorrects  totalErrors  \\\n",
       "0            55   Placement Readiness Tests             35           20   \n",
       "1            55   Placement Readiness Tests             31           24   \n",
       "2            55   Placement Readiness Tests             25            9   \n",
       "3            55   Placement Readiness Tests             29           15   \n",
       "4            55   Placement Readiness Tests             16           19   \n",
       "\n",
       "   totalMark  totalMissed  totalTime  \n",
       "0       35.0            0    2887958  \n",
       "1       31.0            0    3300006  \n",
       "2       25.0           21    3299999  \n",
       "3       29.0           11    3300049  \n",
       "4       16.0           20    3300005  "
      ]
     },
     "execution_count": 20,
     "metadata": {},
     "output_type": "execute_result"
    }
   ],
   "source": [
    "attempts_df.head()"
   ]
  },
  {
   "cell_type": "code",
   "execution_count": 21,
   "metadata": {},
   "outputs": [
    {
     "data": {
      "text/plain": [
       "Placement Readiness Tests                  29080\n",
       "Programming                                 2208\n",
       "Computer Science & Engineering              1521\n",
       "Mechanical Engineering                       485\n",
       "Electronics & Communication Engineering      438\n",
       "Civil Engineering                            113\n",
       "Electrical Engineering                       101\n",
       "Name: practiceSetInfo.grades.name, dtype: int64"
      ]
     },
     "execution_count": 21,
     "metadata": {},
     "output_type": "execute_result"
    }
   ],
   "source": [
    "attempts_df['practiceSetInfo.grades.name'].value_counts()"
   ]
  },
  {
   "cell_type": "markdown",
   "metadata": {},
   "source": [
    "#### as we can see most of the tests are based on Placement Readiness Test\n",
    "#### so lets starts our analysis with placement readiness Tests"
   ]
  },
  {
   "cell_type": "code",
   "execution_count": 22,
   "metadata": {},
   "outputs": [],
   "source": [
    "placement_test_df = attempts_df[attempts_df['practiceSetInfo.grades.name'] == 'Placement Readiness Tests']"
   ]
  },
  {
   "cell_type": "code",
   "execution_count": 23,
   "metadata": {},
   "outputs": [
    {
     "data": {
      "text/plain": [
       "Placement Readiness Tests    29080\n",
       "Name: practiceSetInfo.grades.name, dtype: int64"
      ]
     },
     "execution_count": 23,
     "metadata": {},
     "output_type": "execute_result"
    }
   ],
   "source": [
    "# lets check whether all the observations belong to placement readiness tests\n",
    "placement_test_df['practiceSetInfo.grades.name'].value_counts()"
   ]
  },
  {
   "cell_type": "markdown",
   "metadata": {},
   "source": [
    "#### Now we know that all the observations belong to placement readiness tests\n",
    "#### So now we can say that if student attempted more number of tests then he has practiced more \n",
    "#### So we can take number of attempts as practice metric.\n",
    "#### For performance metric we can take Total Marks as performance metric\n",
    "#### In placiment readiness tests also there are several different subject tests student may take, So we will take average of total marks as performance metric\n",
    "#### So now lets check whether the students who took more tests have more total marks."
   ]
  },
  {
   "cell_type": "code",
   "execution_count": 24,
   "metadata": {},
   "outputs": [
    {
     "data": {
      "text/html": [
       "<div>\n",
       "<style scoped>\n",
       "    .dataframe tbody tr th:only-of-type {\n",
       "        vertical-align: middle;\n",
       "    }\n",
       "\n",
       "    .dataframe tbody tr th {\n",
       "        vertical-align: top;\n",
       "    }\n",
       "\n",
       "    .dataframe thead th {\n",
       "        text-align: right;\n",
       "    }\n",
       "</style>\n",
       "<table border=\"1\" class=\"dataframe\">\n",
       "  <thead>\n",
       "    <tr style=\"text-align: right;\">\n",
       "      <th></th>\n",
       "      <th>_id</th>\n",
       "      <th>user</th>\n",
       "      <th>isAbandoned</th>\n",
       "      <th>maximumMarks</th>\n",
       "      <th>practiceSetInfo.grades.name</th>\n",
       "      <th>totalCorrects</th>\n",
       "      <th>totalErrors</th>\n",
       "      <th>totalMark</th>\n",
       "      <th>totalMissed</th>\n",
       "      <th>totalTime</th>\n",
       "    </tr>\n",
       "  </thead>\n",
       "  <tbody>\n",
       "    <tr>\n",
       "      <th>0</th>\n",
       "      <td>5b851ffdb0a5d1ad413d8301</td>\n",
       "      <td>5b82922edd6c9c6e6db00fb0</td>\n",
       "      <td>False</td>\n",
       "      <td>55</td>\n",
       "      <td>Placement Readiness Tests</td>\n",
       "      <td>35</td>\n",
       "      <td>20</td>\n",
       "      <td>35.0</td>\n",
       "      <td>0</td>\n",
       "      <td>2887958</td>\n",
       "    </tr>\n",
       "    <tr>\n",
       "      <th>1</th>\n",
       "      <td>5b852003b0a5d136aa3d8371</td>\n",
       "      <td>5b829227dd6c9c4c7fb00da0</td>\n",
       "      <td>False</td>\n",
       "      <td>55</td>\n",
       "      <td>Placement Readiness Tests</td>\n",
       "      <td>31</td>\n",
       "      <td>24</td>\n",
       "      <td>31.0</td>\n",
       "      <td>0</td>\n",
       "      <td>3300006</td>\n",
       "    </tr>\n",
       "    <tr>\n",
       "      <th>2</th>\n",
       "      <td>5b851ff7dd6c9c8cedb051d3</td>\n",
       "      <td>5b82922cdd6c9c2801b00f20</td>\n",
       "      <td>False</td>\n",
       "      <td>55</td>\n",
       "      <td>Placement Readiness Tests</td>\n",
       "      <td>25</td>\n",
       "      <td>9</td>\n",
       "      <td>25.0</td>\n",
       "      <td>21</td>\n",
       "      <td>3299999</td>\n",
       "    </tr>\n",
       "    <tr>\n",
       "      <th>3</th>\n",
       "      <td>5b852014b0a5d10fc33d83e4</td>\n",
       "      <td>5b82922add6c9c5f61b00e6a</td>\n",
       "      <td>False</td>\n",
       "      <td>55</td>\n",
       "      <td>Placement Readiness Tests</td>\n",
       "      <td>29</td>\n",
       "      <td>15</td>\n",
       "      <td>29.0</td>\n",
       "      <td>11</td>\n",
       "      <td>3300049</td>\n",
       "    </tr>\n",
       "    <tr>\n",
       "      <th>4</th>\n",
       "      <td>5b85200948598b0aa6eabf57</td>\n",
       "      <td>5b82922edd6c9cd998b00f86</td>\n",
       "      <td>False</td>\n",
       "      <td>55</td>\n",
       "      <td>Placement Readiness Tests</td>\n",
       "      <td>16</td>\n",
       "      <td>19</td>\n",
       "      <td>16.0</td>\n",
       "      <td>20</td>\n",
       "      <td>3300005</td>\n",
       "    </tr>\n",
       "  </tbody>\n",
       "</table>\n",
       "</div>"
      ],
      "text/plain": [
       "                        _id                      user  isAbandoned  \\\n",
       "0  5b851ffdb0a5d1ad413d8301  5b82922edd6c9c6e6db00fb0        False   \n",
       "1  5b852003b0a5d136aa3d8371  5b829227dd6c9c4c7fb00da0        False   \n",
       "2  5b851ff7dd6c9c8cedb051d3  5b82922cdd6c9c2801b00f20        False   \n",
       "3  5b852014b0a5d10fc33d83e4  5b82922add6c9c5f61b00e6a        False   \n",
       "4  5b85200948598b0aa6eabf57  5b82922edd6c9cd998b00f86        False   \n",
       "\n",
       "   maximumMarks practiceSetInfo.grades.name  totalCorrects  totalErrors  \\\n",
       "0            55   Placement Readiness Tests             35           20   \n",
       "1            55   Placement Readiness Tests             31           24   \n",
       "2            55   Placement Readiness Tests             25            9   \n",
       "3            55   Placement Readiness Tests             29           15   \n",
       "4            55   Placement Readiness Tests             16           19   \n",
       "\n",
       "   totalMark  totalMissed  totalTime  \n",
       "0       35.0            0    2887958  \n",
       "1       31.0            0    3300006  \n",
       "2       25.0           21    3299999  \n",
       "3       29.0           11    3300049  \n",
       "4       16.0           20    3300005  "
      ]
     },
     "execution_count": 24,
     "metadata": {},
     "output_type": "execute_result"
    }
   ],
   "source": [
    "placement_test_df.head()"
   ]
  },
  {
   "cell_type": "code",
   "execution_count": 25,
   "metadata": {},
   "outputs": [
    {
     "data": {
      "text/html": [
       "<div>\n",
       "<style scoped>\n",
       "    .dataframe tbody tr th:only-of-type {\n",
       "        vertical-align: middle;\n",
       "    }\n",
       "\n",
       "    .dataframe tbody tr th {\n",
       "        vertical-align: top;\n",
       "    }\n",
       "\n",
       "    .dataframe thead th {\n",
       "        text-align: right;\n",
       "    }\n",
       "</style>\n",
       "<table border=\"1\" class=\"dataframe\">\n",
       "  <thead>\n",
       "    <tr style=\"text-align: right;\">\n",
       "      <th></th>\n",
       "      <th>_id</th>\n",
       "      <th>user</th>\n",
       "      <th>maximumMarks</th>\n",
       "      <th>practiceSetInfo.grades.name</th>\n",
       "      <th>totalCorrects</th>\n",
       "      <th>totalErrors</th>\n",
       "      <th>totalMark</th>\n",
       "      <th>totalMissed</th>\n",
       "      <th>totalTime</th>\n",
       "    </tr>\n",
       "  </thead>\n",
       "  <tbody>\n",
       "    <tr>\n",
       "      <th>0</th>\n",
       "      <td>5b851ffdb0a5d1ad413d8301</td>\n",
       "      <td>5b82922edd6c9c6e6db00fb0</td>\n",
       "      <td>55</td>\n",
       "      <td>Placement Readiness Tests</td>\n",
       "      <td>35</td>\n",
       "      <td>20</td>\n",
       "      <td>35.0</td>\n",
       "      <td>0</td>\n",
       "      <td>2887958</td>\n",
       "    </tr>\n",
       "    <tr>\n",
       "      <th>1</th>\n",
       "      <td>5b852003b0a5d136aa3d8371</td>\n",
       "      <td>5b829227dd6c9c4c7fb00da0</td>\n",
       "      <td>55</td>\n",
       "      <td>Placement Readiness Tests</td>\n",
       "      <td>31</td>\n",
       "      <td>24</td>\n",
       "      <td>31.0</td>\n",
       "      <td>0</td>\n",
       "      <td>3300006</td>\n",
       "    </tr>\n",
       "    <tr>\n",
       "      <th>2</th>\n",
       "      <td>5b851ff7dd6c9c8cedb051d3</td>\n",
       "      <td>5b82922cdd6c9c2801b00f20</td>\n",
       "      <td>55</td>\n",
       "      <td>Placement Readiness Tests</td>\n",
       "      <td>25</td>\n",
       "      <td>9</td>\n",
       "      <td>25.0</td>\n",
       "      <td>21</td>\n",
       "      <td>3299999</td>\n",
       "    </tr>\n",
       "    <tr>\n",
       "      <th>3</th>\n",
       "      <td>5b852014b0a5d10fc33d83e4</td>\n",
       "      <td>5b82922add6c9c5f61b00e6a</td>\n",
       "      <td>55</td>\n",
       "      <td>Placement Readiness Tests</td>\n",
       "      <td>29</td>\n",
       "      <td>15</td>\n",
       "      <td>29.0</td>\n",
       "      <td>11</td>\n",
       "      <td>3300049</td>\n",
       "    </tr>\n",
       "    <tr>\n",
       "      <th>4</th>\n",
       "      <td>5b85200948598b0aa6eabf57</td>\n",
       "      <td>5b82922edd6c9cd998b00f86</td>\n",
       "      <td>55</td>\n",
       "      <td>Placement Readiness Tests</td>\n",
       "      <td>16</td>\n",
       "      <td>19</td>\n",
       "      <td>16.0</td>\n",
       "      <td>20</td>\n",
       "      <td>3300005</td>\n",
       "    </tr>\n",
       "  </tbody>\n",
       "</table>\n",
       "</div>"
      ],
      "text/plain": [
       "                        _id                      user  maximumMarks  \\\n",
       "0  5b851ffdb0a5d1ad413d8301  5b82922edd6c9c6e6db00fb0            55   \n",
       "1  5b852003b0a5d136aa3d8371  5b829227dd6c9c4c7fb00da0            55   \n",
       "2  5b851ff7dd6c9c8cedb051d3  5b82922cdd6c9c2801b00f20            55   \n",
       "3  5b852014b0a5d10fc33d83e4  5b82922add6c9c5f61b00e6a            55   \n",
       "4  5b85200948598b0aa6eabf57  5b82922edd6c9cd998b00f86            55   \n",
       "\n",
       "  practiceSetInfo.grades.name  totalCorrects  totalErrors  totalMark  \\\n",
       "0   Placement Readiness Tests             35           20       35.0   \n",
       "1   Placement Readiness Tests             31           24       31.0   \n",
       "2   Placement Readiness Tests             25            9       25.0   \n",
       "3   Placement Readiness Tests             29           15       29.0   \n",
       "4   Placement Readiness Tests             16           19       16.0   \n",
       "\n",
       "   totalMissed  totalTime  \n",
       "0            0    2887958  \n",
       "1            0    3300006  \n",
       "2           21    3299999  \n",
       "3           11    3300049  \n",
       "4           20    3300005  "
      ]
     },
     "execution_count": 25,
     "metadata": {},
     "output_type": "execute_result"
    }
   ],
   "source": [
    "# AS we have already removed absorvations of attempts which were abandoned\n",
    "# So isAbandoned column is no use for our analysis, as it only contains False values \n",
    "# indicating that attempt was not abandoned which is our primary assumption\n",
    "# According to problems statements, so lets drop isAbandoned column.\n",
    "placement_test_df.drop('isAbandoned', axis=1, inplace=True)\n",
    "placement_test_df.head()"
   ]
  },
  {
   "cell_type": "code",
   "execution_count": 26,
   "metadata": {},
   "outputs": [
    {
     "data": {
      "text/html": [
       "<div>\n",
       "<style scoped>\n",
       "    .dataframe tbody tr th:only-of-type {\n",
       "        vertical-align: middle;\n",
       "    }\n",
       "\n",
       "    .dataframe tbody tr th {\n",
       "        vertical-align: top;\n",
       "    }\n",
       "\n",
       "    .dataframe thead th {\n",
       "        text-align: right;\n",
       "    }\n",
       "</style>\n",
       "<table border=\"1\" class=\"dataframe\">\n",
       "  <thead>\n",
       "    <tr style=\"text-align: right;\">\n",
       "      <th></th>\n",
       "      <th>maximumMarks</th>\n",
       "      <th>totalCorrects</th>\n",
       "      <th>totalErrors</th>\n",
       "      <th>totalMark</th>\n",
       "      <th>totalMissed</th>\n",
       "      <th>totalTime</th>\n",
       "    </tr>\n",
       "  </thead>\n",
       "  <tbody>\n",
       "    <tr>\n",
       "      <th>maximumMarks</th>\n",
       "      <td>1.000000</td>\n",
       "      <td>0.555452</td>\n",
       "      <td>0.756152</td>\n",
       "      <td>0.547366</td>\n",
       "      <td>0.434078</td>\n",
       "      <td>0.656339</td>\n",
       "    </tr>\n",
       "    <tr>\n",
       "      <th>totalCorrects</th>\n",
       "      <td>0.555452</td>\n",
       "      <td>1.000000</td>\n",
       "      <td>0.241949</td>\n",
       "      <td>0.997196</td>\n",
       "      <td>-0.197989</td>\n",
       "      <td>0.393046</td>\n",
       "    </tr>\n",
       "    <tr>\n",
       "      <th>totalErrors</th>\n",
       "      <td>0.756152</td>\n",
       "      <td>0.241949</td>\n",
       "      <td>1.000000</td>\n",
       "      <td>0.232337</td>\n",
       "      <td>-0.010047</td>\n",
       "      <td>0.572360</td>\n",
       "    </tr>\n",
       "    <tr>\n",
       "      <th>totalMark</th>\n",
       "      <td>0.547366</td>\n",
       "      <td>0.997196</td>\n",
       "      <td>0.232337</td>\n",
       "      <td>1.000000</td>\n",
       "      <td>-0.198953</td>\n",
       "      <td>0.385715</td>\n",
       "    </tr>\n",
       "    <tr>\n",
       "      <th>totalMissed</th>\n",
       "      <td>0.434078</td>\n",
       "      <td>-0.197989</td>\n",
       "      <td>-0.010047</td>\n",
       "      <td>-0.198953</td>\n",
       "      <td>1.000000</td>\n",
       "      <td>0.168373</td>\n",
       "    </tr>\n",
       "    <tr>\n",
       "      <th>totalTime</th>\n",
       "      <td>0.656339</td>\n",
       "      <td>0.393046</td>\n",
       "      <td>0.572360</td>\n",
       "      <td>0.385715</td>\n",
       "      <td>0.168373</td>\n",
       "      <td>1.000000</td>\n",
       "    </tr>\n",
       "  </tbody>\n",
       "</table>\n",
       "</div>"
      ],
      "text/plain": [
       "               maximumMarks  totalCorrects  totalErrors  totalMark  \\\n",
       "maximumMarks       1.000000       0.555452     0.756152   0.547366   \n",
       "totalCorrects      0.555452       1.000000     0.241949   0.997196   \n",
       "totalErrors        0.756152       0.241949     1.000000   0.232337   \n",
       "totalMark          0.547366       0.997196     0.232337   1.000000   \n",
       "totalMissed        0.434078      -0.197989    -0.010047  -0.198953   \n",
       "totalTime          0.656339       0.393046     0.572360   0.385715   \n",
       "\n",
       "               totalMissed  totalTime  \n",
       "maximumMarks      0.434078   0.656339  \n",
       "totalCorrects    -0.197989   0.393046  \n",
       "totalErrors      -0.010047   0.572360  \n",
       "totalMark        -0.198953   0.385715  \n",
       "totalMissed       1.000000   0.168373  \n",
       "totalTime         0.168373   1.000000  "
      ]
     },
     "execution_count": 26,
     "metadata": {},
     "output_type": "execute_result"
    }
   ],
   "source": [
    "# lets see the correlations between features\n",
    "placement_test_df.corr()"
   ]
  },
  {
   "cell_type": "markdown",
   "metadata": {},
   "source": [
    "#### observations:\n",
    "1. total missed and totalMark features are negatively corelated, meaning that if the student missed more questions he wil get less total marks.\n",
    "2. similarly totalMissed and totalCorrects are negatiely corelated, meaning if student miss more more quesitons totalCorrects will be reduced.\n",
    "3. There is very high corelation of 0.99 between totalMarks and totalCorrects which obviously show that if student get more corrects then he will get more totalMarks\n",
    "6. there is also 0.39 corelation between totalcorrects and totalTime taken.\n",
    "7. corelation value of 0.57 exists between totalErrors and totalTime, which is interesting because it indicates students who took more time has made more errors.\n",
    "8. We can also see that there is a great corelation of 0.75 between total errors and maximum marks, Here maximum marks is based on test, some test has maximum marks of 65, and some tests has maximum marks of only 10, so obviously the test which has more maximum marks has more questions so the student has more chance of making errors than compared to test which has less maximum marks."
   ]
  },
  {
   "cell_type": "markdown",
   "metadata": {},
   "source": [
    "### Now lets see the number of test attempts each user has in placement readiness test."
   ]
  },
  {
   "cell_type": "code",
   "execution_count": 27,
   "metadata": {},
   "outputs": [
    {
     "data": {
      "text/plain": [
       "user\n",
       "5c0092275e6efb28585ab056    127\n",
       "5c0092105e6efb28585aad54    106\n",
       "5c0092595e6efb28585ab6c8    102\n",
       "5c0092545e6efb28585ab637    100\n",
       "5c0091f95e6efb28585aaa0c     84\n",
       "5c00918a5e6efb28585a9909     83\n",
       "5c0091d05e6efb28585aa3f9     77\n",
       "5c0092715e6efb28585aba01     73\n",
       "5c0092665e6efb28585ab88a     73\n",
       "5c0091bc5e6efb28585aa0e8     72\n",
       "Name: _id, dtype: int64"
      ]
     },
     "execution_count": 27,
     "metadata": {},
     "output_type": "execute_result"
    }
   ],
   "source": [
    "placement_test_df.groupby('user').count().sort_values('_id', ascending=False)['_id'].head(10)"
   ]
  },
  {
   "cell_type": "code",
   "execution_count": 30,
   "metadata": {},
   "outputs": [
    {
     "data": {
      "text/plain": [
       "(3993,)"
      ]
     },
     "execution_count": 30,
     "metadata": {},
     "output_type": "execute_result"
    }
   ],
   "source": [
    "placement_test_df.user.unique().shape"
   ]
  },
  {
   "cell_type": "markdown",
   "metadata": {},
   "source": [
    "### from above we can see that there are total 3993 unique users\n",
    "### lets group the placement test dataframe by unique users"
   ]
  },
  {
   "cell_type": "markdown",
   "metadata": {},
   "source": [
    "1. From above we can see the user 5c0092275e6efb28585ab056 has taken 127 placement readiness tests.\n",
    "2. similarily user 5c0091bc5e6efb28585aa0e8 has taken 72 placement readiness tests.\n",
    "3. So for answering the first objective, we can think of practice as number of test attempts students had, if the student had more number of tests, then we can say he practiced more.\n",
    "4. So we already counted how many attempts or tests each student took.\n",
    "5. Now we can take average total Marks of each user for performance metric.\n",
    "6. We can't directly take totalMarks as performance metrics because each student can take different subtest, Since all subtest belong to same placement readiness test, and totalMarks vary on each subtest, so taking average on all totalMarks of each test will be good here."
   ]
  },
  {
   "cell_type": "markdown",
   "metadata": {},
   "source": [
    "### From above we can see the number of attempts or tests each user took \n",
    "\n",
    "lets prepare a new dataframe which we can have our user, number of attempts and average total marks values"
   ]
  },
  {
   "cell_type": "code",
   "execution_count": 31,
   "metadata": {},
   "outputs": [
    {
     "data": {
      "text/plain": [
       "user\n",
       "5b4034ebaec16d000dd1f8d2     1\n",
       "5b443b21b05807000d75f264     4\n",
       "5b44463412012c000c237924     1\n",
       "5b4b99ef083538000d9885cd     1\n",
       "5b4b99ef083538000d9885cf     7\n",
       "5b4b99ef083538000d9885d1    14\n",
       "5b4b99ef083538000d9885d3     2\n",
       "5b4b99ef083538000d9885d5     2\n",
       "5b4b99ef083538000d9885d7     5\n",
       "5b4b99ef083538000d9885d9     6\n",
       "Name: _id, dtype: int64"
      ]
     },
     "execution_count": 31,
     "metadata": {},
     "output_type": "execute_result"
    }
   ],
   "source": [
    "placement_test_df.groupby('user').count()['_id'].head(10)"
   ]
  },
  {
   "cell_type": "code",
   "execution_count": 32,
   "metadata": {},
   "outputs": [
    {
     "data": {
      "text/html": [
       "<div>\n",
       "<style scoped>\n",
       "    .dataframe tbody tr th:only-of-type {\n",
       "        vertical-align: middle;\n",
       "    }\n",
       "\n",
       "    .dataframe tbody tr th {\n",
       "        vertical-align: top;\n",
       "    }\n",
       "\n",
       "    .dataframe thead th {\n",
       "        text-align: right;\n",
       "    }\n",
       "</style>\n",
       "<table border=\"1\" class=\"dataframe\">\n",
       "  <thead>\n",
       "    <tr style=\"text-align: right;\">\n",
       "      <th></th>\n",
       "      <th>maximumMarks</th>\n",
       "      <th>totalCorrects</th>\n",
       "      <th>totalErrors</th>\n",
       "      <th>totalMark</th>\n",
       "      <th>totalMissed</th>\n",
       "      <th>totalTime</th>\n",
       "    </tr>\n",
       "    <tr>\n",
       "      <th>user</th>\n",
       "      <th></th>\n",
       "      <th></th>\n",
       "      <th></th>\n",
       "      <th></th>\n",
       "      <th></th>\n",
       "      <th></th>\n",
       "    </tr>\n",
       "  </thead>\n",
       "  <tbody>\n",
       "    <tr>\n",
       "      <th>5b4034ebaec16d000dd1f8d2</th>\n",
       "      <td>45.000000</td>\n",
       "      <td>1.000000</td>\n",
       "      <td>2.000000</td>\n",
       "      <td>1.000000</td>\n",
       "      <td>42.000000</td>\n",
       "      <td>4.952000e+04</td>\n",
       "    </tr>\n",
       "    <tr>\n",
       "      <th>5b443b21b05807000d75f264</th>\n",
       "      <td>35.000000</td>\n",
       "      <td>20.500000</td>\n",
       "      <td>12.000000</td>\n",
       "      <td>20.500000</td>\n",
       "      <td>2.500000</td>\n",
       "      <td>2.501583e+06</td>\n",
       "    </tr>\n",
       "    <tr>\n",
       "      <th>5b44463412012c000c237924</th>\n",
       "      <td>30.000000</td>\n",
       "      <td>19.000000</td>\n",
       "      <td>11.000000</td>\n",
       "      <td>19.000000</td>\n",
       "      <td>0.000000</td>\n",
       "      <td>1.508291e+06</td>\n",
       "    </tr>\n",
       "    <tr>\n",
       "      <th>5b4b99ef083538000d9885cd</th>\n",
       "      <td>45.000000</td>\n",
       "      <td>21.000000</td>\n",
       "      <td>22.000000</td>\n",
       "      <td>21.000000</td>\n",
       "      <td>2.000000</td>\n",
       "      <td>3.367600e+06</td>\n",
       "    </tr>\n",
       "    <tr>\n",
       "      <th>5b4b99ef083538000d9885cf</th>\n",
       "      <td>35.714286</td>\n",
       "      <td>9.714286</td>\n",
       "      <td>6.714286</td>\n",
       "      <td>9.714286</td>\n",
       "      <td>19.285714</td>\n",
       "      <td>1.395147e+06</td>\n",
       "    </tr>\n",
       "  </tbody>\n",
       "</table>\n",
       "</div>"
      ],
      "text/plain": [
       "                          maximumMarks  totalCorrects  totalErrors  totalMark  \\\n",
       "user                                                                            \n",
       "5b4034ebaec16d000dd1f8d2     45.000000       1.000000     2.000000   1.000000   \n",
       "5b443b21b05807000d75f264     35.000000      20.500000    12.000000  20.500000   \n",
       "5b44463412012c000c237924     30.000000      19.000000    11.000000  19.000000   \n",
       "5b4b99ef083538000d9885cd     45.000000      21.000000    22.000000  21.000000   \n",
       "5b4b99ef083538000d9885cf     35.714286       9.714286     6.714286   9.714286   \n",
       "\n",
       "                          totalMissed     totalTime  \n",
       "user                                                 \n",
       "5b4034ebaec16d000dd1f8d2    42.000000  4.952000e+04  \n",
       "5b443b21b05807000d75f264     2.500000  2.501583e+06  \n",
       "5b44463412012c000c237924     0.000000  1.508291e+06  \n",
       "5b4b99ef083538000d9885cd     2.000000  3.367600e+06  \n",
       "5b4b99ef083538000d9885cf    19.285714  1.395147e+06  "
      ]
     },
     "execution_count": 32,
     "metadata": {},
     "output_type": "execute_result"
    }
   ],
   "source": [
    "placement_test_df.groupby('user').mean().head()"
   ]
  },
  {
   "cell_type": "code",
   "execution_count": 33,
   "metadata": {},
   "outputs": [],
   "source": [
    "numberOfAttempts = placement_test_df.groupby('user').count()['_id']\n",
    "avgTotalMarks = placement_test_df.groupby('user').mean()"
   ]
  },
  {
   "cell_type": "code",
   "execution_count": 34,
   "metadata": {},
   "outputs": [
    {
     "data": {
      "text/html": [
       "<div>\n",
       "<style scoped>\n",
       "    .dataframe tbody tr th:only-of-type {\n",
       "        vertical-align: middle;\n",
       "    }\n",
       "\n",
       "    .dataframe tbody tr th {\n",
       "        vertical-align: top;\n",
       "    }\n",
       "\n",
       "    .dataframe thead th {\n",
       "        text-align: right;\n",
       "    }\n",
       "</style>\n",
       "<table border=\"1\" class=\"dataframe\">\n",
       "  <thead>\n",
       "    <tr style=\"text-align: right;\">\n",
       "      <th></th>\n",
       "      <th>user</th>\n",
       "      <th>numberOfAttempts</th>\n",
       "    </tr>\n",
       "  </thead>\n",
       "  <tbody>\n",
       "    <tr>\n",
       "      <th>0</th>\n",
       "      <td>5b4034ebaec16d000dd1f8d2</td>\n",
       "      <td>1</td>\n",
       "    </tr>\n",
       "    <tr>\n",
       "      <th>1</th>\n",
       "      <td>5b443b21b05807000d75f264</td>\n",
       "      <td>4</td>\n",
       "    </tr>\n",
       "    <tr>\n",
       "      <th>2</th>\n",
       "      <td>5b44463412012c000c237924</td>\n",
       "      <td>1</td>\n",
       "    </tr>\n",
       "    <tr>\n",
       "      <th>3</th>\n",
       "      <td>5b4b99ef083538000d9885cd</td>\n",
       "      <td>1</td>\n",
       "    </tr>\n",
       "    <tr>\n",
       "      <th>4</th>\n",
       "      <td>5b4b99ef083538000d9885cf</td>\n",
       "      <td>7</td>\n",
       "    </tr>\n",
       "  </tbody>\n",
       "</table>\n",
       "</div>"
      ],
      "text/plain": [
       "                       user  numberOfAttempts\n",
       "0  5b4034ebaec16d000dd1f8d2                 1\n",
       "1  5b443b21b05807000d75f264                 4\n",
       "2  5b44463412012c000c237924                 1\n",
       "3  5b4b99ef083538000d9885cd                 1\n",
       "4  5b4b99ef083538000d9885cf                 7"
      ]
     },
     "execution_count": 34,
     "metadata": {},
     "output_type": "execute_result"
    }
   ],
   "source": [
    "numberOfAttempts = numberOfAttempts.reset_index().rename({'_id':'numberOfAttempts'}, axis=1)\n",
    "numberOfAttempts.head()"
   ]
  },
  {
   "cell_type": "code",
   "execution_count": 35,
   "metadata": {},
   "outputs": [
    {
     "data": {
      "text/html": [
       "<div>\n",
       "<style scoped>\n",
       "    .dataframe tbody tr th:only-of-type {\n",
       "        vertical-align: middle;\n",
       "    }\n",
       "\n",
       "    .dataframe tbody tr th {\n",
       "        vertical-align: top;\n",
       "    }\n",
       "\n",
       "    .dataframe thead th {\n",
       "        text-align: right;\n",
       "    }\n",
       "</style>\n",
       "<table border=\"1\" class=\"dataframe\">\n",
       "  <thead>\n",
       "    <tr style=\"text-align: right;\">\n",
       "      <th></th>\n",
       "      <th>user</th>\n",
       "      <th>numberOfAttempts</th>\n",
       "      <th>maximumMarks</th>\n",
       "      <th>totalCorrects</th>\n",
       "      <th>totalErrors</th>\n",
       "      <th>totalMark</th>\n",
       "      <th>totalMissed</th>\n",
       "      <th>totalTime</th>\n",
       "    </tr>\n",
       "  </thead>\n",
       "  <tbody>\n",
       "    <tr>\n",
       "      <th>0</th>\n",
       "      <td>5b4034ebaec16d000dd1f8d2</td>\n",
       "      <td>1</td>\n",
       "      <td>45.000000</td>\n",
       "      <td>1.000000</td>\n",
       "      <td>2.000000</td>\n",
       "      <td>1.000000</td>\n",
       "      <td>42.000000</td>\n",
       "      <td>4.952000e+04</td>\n",
       "    </tr>\n",
       "    <tr>\n",
       "      <th>1</th>\n",
       "      <td>5b443b21b05807000d75f264</td>\n",
       "      <td>4</td>\n",
       "      <td>35.000000</td>\n",
       "      <td>20.500000</td>\n",
       "      <td>12.000000</td>\n",
       "      <td>20.500000</td>\n",
       "      <td>2.500000</td>\n",
       "      <td>2.501583e+06</td>\n",
       "    </tr>\n",
       "    <tr>\n",
       "      <th>2</th>\n",
       "      <td>5b44463412012c000c237924</td>\n",
       "      <td>1</td>\n",
       "      <td>30.000000</td>\n",
       "      <td>19.000000</td>\n",
       "      <td>11.000000</td>\n",
       "      <td>19.000000</td>\n",
       "      <td>0.000000</td>\n",
       "      <td>1.508291e+06</td>\n",
       "    </tr>\n",
       "    <tr>\n",
       "      <th>3</th>\n",
       "      <td>5b4b99ef083538000d9885cd</td>\n",
       "      <td>1</td>\n",
       "      <td>45.000000</td>\n",
       "      <td>21.000000</td>\n",
       "      <td>22.000000</td>\n",
       "      <td>21.000000</td>\n",
       "      <td>2.000000</td>\n",
       "      <td>3.367600e+06</td>\n",
       "    </tr>\n",
       "    <tr>\n",
       "      <th>4</th>\n",
       "      <td>5b4b99ef083538000d9885cf</td>\n",
       "      <td>7</td>\n",
       "      <td>35.714286</td>\n",
       "      <td>9.714286</td>\n",
       "      <td>6.714286</td>\n",
       "      <td>9.714286</td>\n",
       "      <td>19.285714</td>\n",
       "      <td>1.395147e+06</td>\n",
       "    </tr>\n",
       "  </tbody>\n",
       "</table>\n",
       "</div>"
      ],
      "text/plain": [
       "                       user  numberOfAttempts  maximumMarks  totalCorrects  \\\n",
       "0  5b4034ebaec16d000dd1f8d2                 1     45.000000       1.000000   \n",
       "1  5b443b21b05807000d75f264                 4     35.000000      20.500000   \n",
       "2  5b44463412012c000c237924                 1     30.000000      19.000000   \n",
       "3  5b4b99ef083538000d9885cd                 1     45.000000      21.000000   \n",
       "4  5b4b99ef083538000d9885cf                 7     35.714286       9.714286   \n",
       "\n",
       "   totalErrors  totalMark  totalMissed     totalTime  \n",
       "0     2.000000   1.000000    42.000000  4.952000e+04  \n",
       "1    12.000000  20.500000     2.500000  2.501583e+06  \n",
       "2    11.000000  19.000000     0.000000  1.508291e+06  \n",
       "3    22.000000  21.000000     2.000000  3.367600e+06  \n",
       "4     6.714286   9.714286    19.285714  1.395147e+06  "
      ]
     },
     "execution_count": 35,
     "metadata": {},
     "output_type": "execute_result"
    }
   ],
   "source": [
    "# Now lets join both the number of attempts and avg total marks dataframe\n",
    "final_df = numberOfAttempts.join(avgTotalMarks, on='user')\n",
    "final_df.head()"
   ]
  },
  {
   "cell_type": "code",
   "execution_count": 36,
   "metadata": {},
   "outputs": [
    {
     "data": {
      "text/plain": [
       "((3993, 8), (2440, 8))"
      ]
     },
     "execution_count": 36,
     "metadata": {},
     "output_type": "execute_result"
    }
   ],
   "source": [
    "final_df.shape, final_df.query('numberOfAttempts > 1').shape"
   ]
  },
  {
   "cell_type": "markdown",
   "metadata": {},
   "source": [
    "### From above we can see there are total 3993 users\n",
    "### Out of total 3993 users, 2440 users has taken more than 2 attempts.\n",
    "### We should only consider more than 2 attempts for our analsysis because we can't say student practiced until he took more than 2 tests in placement readiness tests."
   ]
  },
  {
   "cell_type": "code",
   "execution_count": 37,
   "metadata": {},
   "outputs": [],
   "source": [
    "practice_df = final_df.query(\"numberOfAttempts > 1\")"
   ]
  },
  {
   "cell_type": "markdown",
   "metadata": {},
   "source": [
    "1. now we have numbler of attempts and average of total marks each user has.\n",
    "2. Lets check whether is there any relationship between number of attempts and totalCorrects, maximum Marks and totalMissed"
   ]
  },
  {
   "cell_type": "code",
   "execution_count": 48,
   "metadata": {},
   "outputs": [
    {
     "data": {
      "image/png": "[encoded data removed]",
      "text/plain": [
       "<Figure size 432x288 with 2 Axes>"
      ]
     },
     "metadata": {
      "needs_background": "light"
     },
     "output_type": "display_data"
    },
    {
     "data": {
      "image/png": "[encoded data removed]",
      "text/plain": [
       "<Figure size 432x432 with 2 Axes>"
      ]
     },
     "metadata": {
      "needs_background": "light"
     },
     "output_type": "display_data"
    }
   ],
   "source": [
    "# now lets see the distribution of totalMarks and number of attempts\n",
    "plt.figure()\n",
    "plt.subplot(1,2,1);\n",
    "plt.hist(practice_df.numberOfAttempts);\n",
    "plt.xlabel(\"number of attempts\")\n",
    "plt.ylabel(\"counts\");\n",
    "plt.title(\"histogram for number of attempts\")\n",
    "\n",
    "plt.subplot(1,2,2);\n",
    "plt.boxplot(practice_df.numberOfAttempts);\n",
    "plt.tight_layout()\n",
    "plt.title(\"box plot for number of attempts\");\n",
    "\n",
    "plt.figure(figsize=(6,6))\n",
    "plt.subplot(2,2,1);\n",
    "plt.hist(practice_df.totalMark);\n",
    "plt.xlabel(\"Mean total Marks\")\n",
    "plt.ylabel(\"counts\");\n",
    "plt.title(\"histogram for total marks\")\n",
    "\n",
    "plt.subplot(2,2,2);\n",
    "plt.boxplot(practice_df.totalMark);\n",
    "plt.tight_layout()\n",
    "plt.title(\"box plot total Marks\");"
   ]
  },
  {
   "cell_type": "code",
   "execution_count": 49,
   "metadata": {},
   "outputs": [
    {
     "data": {
      "text/plain": [
       "count    2440.000000\n",
       "mean       11.281557\n",
       "std        13.363397\n",
       "min         2.000000\n",
       "25%         3.000000\n",
       "50%         5.000000\n",
       "75%        14.000000\n",
       "max       127.000000\n",
       "Name: numberOfAttempts, dtype: float64"
      ]
     },
     "execution_count": 49,
     "metadata": {},
     "output_type": "execute_result"
    }
   ],
   "source": [
    "practice_df.numberOfAttempts.describe()"
   ]
  },
  {
   "cell_type": "code",
   "execution_count": 50,
   "metadata": {},
   "outputs": [
    {
     "data": {
      "text/plain": [
       "0.1680327868852459"
      ]
     },
     "execution_count": 50,
     "metadata": {},
     "output_type": "execute_result"
    }
   ],
   "source": [
    "practice_df.query('numberOfAttempts>20')['numberOfAttempts'].shape[0]/practice_df['numberOfAttempts'].shape[0]"
   ]
  },
  {
   "cell_type": "markdown",
   "metadata": {},
   "source": [
    "### we can see 75% of students has attempted placement readiness test upto 14 times.\n",
    "### but there are also 16.8% students who has attempted more than 20 times"
   ]
  },
  {
   "cell_type": "code",
   "execution_count": 51,
   "metadata": {},
   "outputs": [
    {
     "name": "stdout",
     "output_type": "stream",
     "text": [
      "-0.04472925879297789\n"
     ]
    },
    {
     "data": {
      "image/png": "[encoded data removed]",
      "text/plain": [
       "<Figure size 432x288 with 1 Axes>"
      ]
     },
     "metadata": {
      "needs_background": "light"
     },
     "output_type": "display_data"
    }
   ],
   "source": [
    "print(practice_df['numberOfAttempts'].corr(practice_df.totalMark))\n",
    "plt.scatter(practice_df['numberOfAttempts'], practice_df.totalMark);\n",
    "plt.xlabel('number of attempts')\n",
    "plt.ylabel('average total Marks')\n",
    "plt.title(\"number of attempts vs average total marks\");"
   ]
  },
  {
   "cell_type": "markdown",
   "metadata": {},
   "source": [
    "### So there is nearly zero corelation between number of attempts and average total marks\n",
    "### but we need to dig further to see whats really happening."
   ]
  },
  {
   "cell_type": "markdown",
   "metadata": {},
   "source": [
    "### lets see whether the low number of test attempt users are effecting th results as there are 50% test takers who have less than 5 attempts"
   ]
  },
  {
   "cell_type": "code",
   "execution_count": 52,
   "metadata": {},
   "outputs": [],
   "source": [
    "higher_attempts_practice_df = practice_df.query('numberOfAttempts>10')"
   ]
  },
  {
   "cell_type": "code",
   "execution_count": 53,
   "metadata": {},
   "outputs": [
    {
     "data": {
      "text/plain": [
       "(757, 8)"
      ]
     },
     "execution_count": 53,
     "metadata": {},
     "output_type": "execute_result"
    }
   ],
   "source": [
    "higher_attempts_practice_df.shape"
   ]
  },
  {
   "cell_type": "code",
   "execution_count": 54,
   "metadata": {},
   "outputs": [
    {
     "name": "stdout",
     "output_type": "stream",
     "text": [
      "0.08536207233649638\n"
     ]
    },
    {
     "data": {
      "image/png": "[encoded data removed]",
      "text/plain": [
       "<Figure size 432x288 with 1 Axes>"
      ]
     },
     "metadata": {
      "needs_background": "light"
     },
     "output_type": "display_data"
    }
   ],
   "source": [
    "print(higher_attempts_practice_df.numberOfAttempts.corr(higher_attempts_practice_df.totalMark))\n",
    "plt.scatter(higher_attempts_practice_df['numberOfAttempts'], higher_attempts_practice_df.totalMark);\n",
    "#plt.plot([0,40] ,[0,25])\n",
    "plt.xlabel('number of attempts')\n",
    "plt.ylabel('average total Marks')\n",
    "plt.title(\"number of attempts vs average total marks\");"
   ]
  },
  {
   "cell_type": "markdown",
   "metadata": {},
   "source": [
    "#### As we can see when we only consider high attempts where number of total attempts is greater than 10 with respespective to total marks, we can see the positive corelation has increased from -0.04 to 0.08\n",
    "\n",
    "####  Even though the positive corelation increased we can't just infer that because of the student took more tests doesn't mean he has better performance, in this case total average marks as the corelation is near to zero\n",
    "#### We should do further detailed analysis to infer the realtionship between practice and performance"
   ]
  },
  {
   "cell_type": "markdown",
   "metadata": {},
   "source": [
    "# Infer the relationship using machine learning linear regression Model"
   ]
  },
  {
   "cell_type": "markdown",
   "metadata": {},
   "source": [
    "### Now lets consider total marks as our performance metric\n",
    "### lets see taking more number of tests has increased student performance or total marks using machine learning models"
   ]
  },
  {
   "cell_type": "code",
   "execution_count": 56,
   "metadata": {},
   "outputs": [
    {
     "data": {
      "text/html": [
       "<div>\n",
       "<style scoped>\n",
       "    .dataframe tbody tr th:only-of-type {\n",
       "        vertical-align: middle;\n",
       "    }\n",
       "\n",
       "    .dataframe tbody tr th {\n",
       "        vertical-align: top;\n",
       "    }\n",
       "\n",
       "    .dataframe thead th {\n",
       "        text-align: right;\n",
       "    }\n",
       "</style>\n",
       "<table border=\"1\" class=\"dataframe\">\n",
       "  <thead>\n",
       "    <tr style=\"text-align: right;\">\n",
       "      <th></th>\n",
       "      <th>_id</th>\n",
       "      <th>user</th>\n",
       "      <th>maximumMarks</th>\n",
       "      <th>practiceSetInfo.grades.name</th>\n",
       "      <th>totalCorrects</th>\n",
       "      <th>totalErrors</th>\n",
       "      <th>totalMark</th>\n",
       "      <th>totalMissed</th>\n",
       "      <th>totalTime</th>\n",
       "    </tr>\n",
       "  </thead>\n",
       "  <tbody>\n",
       "    <tr>\n",
       "      <th>0</th>\n",
       "      <td>5b851ffdb0a5d1ad413d8301</td>\n",
       "      <td>5b82922edd6c9c6e6db00fb0</td>\n",
       "      <td>55</td>\n",
       "      <td>Placement Readiness Tests</td>\n",
       "      <td>35</td>\n",
       "      <td>20</td>\n",
       "      <td>35.0</td>\n",
       "      <td>0</td>\n",
       "      <td>2887958</td>\n",
       "    </tr>\n",
       "    <tr>\n",
       "      <th>1</th>\n",
       "      <td>5b852003b0a5d136aa3d8371</td>\n",
       "      <td>5b829227dd6c9c4c7fb00da0</td>\n",
       "      <td>55</td>\n",
       "      <td>Placement Readiness Tests</td>\n",
       "      <td>31</td>\n",
       "      <td>24</td>\n",
       "      <td>31.0</td>\n",
       "      <td>0</td>\n",
       "      <td>3300006</td>\n",
       "    </tr>\n",
       "    <tr>\n",
       "      <th>2</th>\n",
       "      <td>5b851ff7dd6c9c8cedb051d3</td>\n",
       "      <td>5b82922cdd6c9c2801b00f20</td>\n",
       "      <td>55</td>\n",
       "      <td>Placement Readiness Tests</td>\n",
       "      <td>25</td>\n",
       "      <td>9</td>\n",
       "      <td>25.0</td>\n",
       "      <td>21</td>\n",
       "      <td>3299999</td>\n",
       "    </tr>\n",
       "    <tr>\n",
       "      <th>3</th>\n",
       "      <td>5b852014b0a5d10fc33d83e4</td>\n",
       "      <td>5b82922add6c9c5f61b00e6a</td>\n",
       "      <td>55</td>\n",
       "      <td>Placement Readiness Tests</td>\n",
       "      <td>29</td>\n",
       "      <td>15</td>\n",
       "      <td>29.0</td>\n",
       "      <td>11</td>\n",
       "      <td>3300049</td>\n",
       "    </tr>\n",
       "    <tr>\n",
       "      <th>4</th>\n",
       "      <td>5b85200948598b0aa6eabf57</td>\n",
       "      <td>5b82922edd6c9cd998b00f86</td>\n",
       "      <td>55</td>\n",
       "      <td>Placement Readiness Tests</td>\n",
       "      <td>16</td>\n",
       "      <td>19</td>\n",
       "      <td>16.0</td>\n",
       "      <td>20</td>\n",
       "      <td>3300005</td>\n",
       "    </tr>\n",
       "  </tbody>\n",
       "</table>\n",
       "</div>"
      ],
      "text/plain": [
       "                        _id                      user  maximumMarks  \\\n",
       "0  5b851ffdb0a5d1ad413d8301  5b82922edd6c9c6e6db00fb0            55   \n",
       "1  5b852003b0a5d136aa3d8371  5b829227dd6c9c4c7fb00da0            55   \n",
       "2  5b851ff7dd6c9c8cedb051d3  5b82922cdd6c9c2801b00f20            55   \n",
       "3  5b852014b0a5d10fc33d83e4  5b82922add6c9c5f61b00e6a            55   \n",
       "4  5b85200948598b0aa6eabf57  5b82922edd6c9cd998b00f86            55   \n",
       "\n",
       "  practiceSetInfo.grades.name  totalCorrects  totalErrors  totalMark  \\\n",
       "0   Placement Readiness Tests             35           20       35.0   \n",
       "1   Placement Readiness Tests             31           24       31.0   \n",
       "2   Placement Readiness Tests             25            9       25.0   \n",
       "3   Placement Readiness Tests             29           15       29.0   \n",
       "4   Placement Readiness Tests             16           19       16.0   \n",
       "\n",
       "   totalMissed  totalTime  \n",
       "0            0    2887958  \n",
       "1            0    3300006  \n",
       "2           21    3299999  \n",
       "3           11    3300049  \n",
       "4           20    3300005  "
      ]
     },
     "execution_count": 56,
     "metadata": {},
     "output_type": "execute_result"
    }
   ],
   "source": [
    "placement_test_df.head()"
   ]
  },
  {
   "cell_type": "code",
   "execution_count": 57,
   "metadata": {},
   "outputs": [
    {
     "name": "stdout",
     "output_type": "stream",
     "text": [
      "Improved: 1370 Not Improved: 1070\n"
     ]
    }
   ],
   "source": [
    "testinfo = placement_test_df[[\"user\",\"totalMark\"]]\n",
    "improved = 0\n",
    "improved_user = []\n",
    "improved_attempts = []\n",
    "not_improved = 0\n",
    "not_improved_user = []\n",
    "not_improved_attempts = []\n",
    "metrics = []\n",
    "\n",
    "for x in placement_test_df[\"user\"].unique():\n",
    "    temp_testinfo = placement_test_df[placement_test_df[\"user\"] == x]\n",
    "    rows = temp_testinfo.shape[0]\n",
    "    if rows > 1:\n",
    "        clf = LinearRegression()\n",
    "        X = np.arange(rows).reshape(-1, 1)\n",
    "        y = temp_testinfo[\"totalMark\"]\n",
    "        clf.fit(X, y)\n",
    "        #initial_marks = temp_testinfo.iloc[0][\"totalMark\"]\n",
    "        #latest_marks = temp_testinfo.iloc[-1][\"totalMark\"]\n",
    "        tests_taken = temp_testinfo.shape[0]\n",
    "        metrics.append((y, clf.coef_, clf.intercept_))\n",
    "        if clf.coef_ > 0:\n",
    "            improved += 1\n",
    "            improved_user.append(x)\n",
    "            improved_attempts.append(tests_taken)\n",
    "        else:\n",
    "            not_improved += 1\n",
    "            not_improved_user.append(x)\n",
    "            not_improved_attempts.append(tests_taken)\n",
    "print(\"Improved: {} Not Improved: {}\".format(improved, not_improved))"
   ]
  },
  {
   "cell_type": "code",
   "execution_count": 58,
   "metadata": {},
   "outputs": [],
   "source": [
    "metrics.sort(key=lambda x: x[1], reverse=True)"
   ]
  },
  {
   "cell_type": "markdown",
   "metadata": {},
   "source": [
    "#### lets see the top 5 student improvements based on attempts"
   ]
  },
  {
   "cell_type": "code",
   "execution_count": 59,
   "metadata": {},
   "outputs": [
    {
     "name": "stdout",
     "output_type": "stream",
     "text": [
      "Top 5 student improvements\n"
     ]
    },
    {
     "data": {
      "image/png": "[encoded data removed]",
      "text/plain": [
       "<Figure size 432x288 with 1 Axes>"
      ]
     },
     "metadata": {
      "needs_background": "light"
     },
     "output_type": "display_data"
    },
    {
     "data": {
      "image/png": "[encoded data removed]",
      "text/plain": [
       "<Figure size 432x288 with 1 Axes>"
      ]
     },
     "metadata": {
      "needs_background": "light"
     },
     "output_type": "display_data"
    },
    {
     "data": {
      "image/png": "[encoded data removed]",
      "text/plain": [
       "<Figure size 432x288 with 1 Axes>"
      ]
     },
     "metadata": {
      "needs_background": "light"
     },
     "output_type": "display_data"
    },
    {
     "data": {
      "image/png": "[encoded data removed]",
      "text/plain": [
       "<Figure size 432x288 with 1 Axes>"
      ]
     },
     "metadata": {
      "needs_background": "light"
     },
     "output_type": "display_data"
    },
    {
     "data": {
      "image/png": "[encoded data removed]",
      "text/plain": [
       "<Figure size 432x288 with 1 Axes>"
      ]
     },
     "metadata": {
      "needs_background": "light"
     },
     "output_type": "display_data"
    },
    {
     "data": {
      "image/png": "[encoded data removed]",
      "text/plain": [
       "<Figure size 432x288 with 1 Axes>"
      ]
     },
     "metadata": {
      "needs_background": "light"
     },
     "output_type": "display_data"
    }
   ],
   "source": [
    "import matplotlib.pyplot as plt\n",
    "%matplotlib inline\n",
    "\n",
    "ctr = 0\n",
    "print(\"Top 5 student improvements\")\n",
    "\n",
    "for x in metrics:\n",
    "    if ctr > 5:\n",
    "        break\n",
    "    if len(x[0]) > 3:\n",
    "        ctr += 1\n",
    "        plt.scatter(np.arange(len(x[0])), x[0])\n",
    "        plt.plot([0, 3], [0, x[1] * 3 + x[2]])\n",
    "        plt.title(\"Slope: {0:.1f}\".format(x[1][0]))\n",
    "        plt.show()"
   ]
  },
  {
   "cell_type": "code",
   "execution_count": 60,
   "metadata": {},
   "outputs": [
    {
     "data": {
      "text/plain": [
       "(2440, 8)"
      ]
     },
     "execution_count": 60,
     "metadata": {},
     "output_type": "execute_result"
    }
   ],
   "source": [
    "practice_df.shape"
   ]
  },
  {
   "cell_type": "markdown",
   "metadata": {},
   "source": [
    "### From above we can see out of 2440,  1370 students performance increased due to increase in number of attempts\n",
    "### 1070 students performance didn't improve even in increase of number of attempts."
   ]
  },
  {
   "cell_type": "code",
   "execution_count": 75,
   "metadata": {},
   "outputs": [
    {
     "data": {
      "text/plain": [
       "(0.5614754098360656, 0.4385245901639344)"
      ]
     },
     "execution_count": 75,
     "metadata": {},
     "output_type": "execute_result"
    }
   ],
   "source": [
    "improved/(improved+not_improved), not_improved/(improved+not_improved)"
   ]
  },
  {
   "cell_type": "markdown",
   "metadata": {},
   "source": [
    "### Observation:\n",
    "1. So we can see not all the sudents who has attempted more number of tests has improved scores.\n",
    "2. Out of 2440, 1370(56.14%) students has improved test score and 1070(43.85) students test score was not improved even they have attempted more number of tests.\n",
    "3. This is reason we saw nearly zero corelation between number of attempts and total marks."
   ]
  },
  {
   "cell_type": "code",
   "execution_count": 61,
   "metadata": {},
   "outputs": [],
   "source": [
    "aa = pd.DataFrame({'user':improved_user, 'improved_attempts':improved_attempts})\n",
    "bb = pd.DataFrame({'user':not_improved_user, 'not_improved_attempts':not_improved_attempts})"
   ]
  },
  {
   "cell_type": "code",
   "execution_count": 62,
   "metadata": {},
   "outputs": [],
   "source": [
    "improved_df = aa.set_index(\"user\").join(practice_df.set_index(\"user\"), on='user')\n",
    "not_improved_df = bb.set_index(\"user\").join(practice_df.set_index(\"user\"), on='user')"
   ]
  },
  {
   "cell_type": "code",
   "execution_count": 63,
   "metadata": {},
   "outputs": [
    {
     "data": {
      "text/html": [
       "<div>\n",
       "<style scoped>\n",
       "    .dataframe tbody tr th:only-of-type {\n",
       "        vertical-align: middle;\n",
       "    }\n",
       "\n",
       "    .dataframe tbody tr th {\n",
       "        vertical-align: top;\n",
       "    }\n",
       "\n",
       "    .dataframe thead th {\n",
       "        text-align: right;\n",
       "    }\n",
       "</style>\n",
       "<table border=\"1\" class=\"dataframe\">\n",
       "  <thead>\n",
       "    <tr style=\"text-align: right;\">\n",
       "      <th></th>\n",
       "      <th>not_improved_attempts</th>\n",
       "      <th>numberOfAttempts</th>\n",
       "      <th>maximumMarks</th>\n",
       "      <th>totalCorrects</th>\n",
       "      <th>totalErrors</th>\n",
       "      <th>totalMark</th>\n",
       "      <th>totalMissed</th>\n",
       "      <th>totalTime</th>\n",
       "    </tr>\n",
       "    <tr>\n",
       "      <th>user</th>\n",
       "      <th></th>\n",
       "      <th></th>\n",
       "      <th></th>\n",
       "      <th></th>\n",
       "      <th></th>\n",
       "      <th></th>\n",
       "      <th></th>\n",
       "      <th></th>\n",
       "    </tr>\n",
       "  </thead>\n",
       "  <tbody>\n",
       "    <tr>\n",
       "      <th>5b82922edd6c9c6e6db00fb0</th>\n",
       "      <td>3</td>\n",
       "      <td>3</td>\n",
       "      <td>40.000000</td>\n",
       "      <td>20.666667</td>\n",
       "      <td>19.333333</td>\n",
       "      <td>20.666667</td>\n",
       "      <td>0.000000</td>\n",
       "      <td>2.358370e+06</td>\n",
       "    </tr>\n",
       "    <tr>\n",
       "      <th>5b829227dd6c9c4c7fb00da0</th>\n",
       "      <td>5</td>\n",
       "      <td>5</td>\n",
       "      <td>46.000000</td>\n",
       "      <td>20.000000</td>\n",
       "      <td>14.800000</td>\n",
       "      <td>20.000000</td>\n",
       "      <td>11.200000</td>\n",
       "      <td>2.940009e+06</td>\n",
       "    </tr>\n",
       "    <tr>\n",
       "      <th>5b82922cdd6c9c2801b00f20</th>\n",
       "      <td>2</td>\n",
       "      <td>2</td>\n",
       "      <td>32.500000</td>\n",
       "      <td>15.000000</td>\n",
       "      <td>4.500000</td>\n",
       "      <td>15.000000</td>\n",
       "      <td>13.000000</td>\n",
       "      <td>2.400013e+06</td>\n",
       "    </tr>\n",
       "    <tr>\n",
       "      <th>5b82922add6c9c5f61b00e6a</th>\n",
       "      <td>7</td>\n",
       "      <td>7</td>\n",
       "      <td>42.142857</td>\n",
       "      <td>23.571429</td>\n",
       "      <td>10.285714</td>\n",
       "      <td>23.571429</td>\n",
       "      <td>8.285714</td>\n",
       "      <td>2.585687e+06</td>\n",
       "    </tr>\n",
       "    <tr>\n",
       "      <th>5b82922edd6c9cd998b00f86</th>\n",
       "      <td>12</td>\n",
       "      <td>12</td>\n",
       "      <td>25.000000</td>\n",
       "      <td>9.500000</td>\n",
       "      <td>6.250000</td>\n",
       "      <td>9.500000</td>\n",
       "      <td>9.250000</td>\n",
       "      <td>1.527360e+06</td>\n",
       "    </tr>\n",
       "  </tbody>\n",
       "</table>\n",
       "</div>"
      ],
      "text/plain": [
       "                          not_improved_attempts  numberOfAttempts  \\\n",
       "user                                                                \n",
       "5b82922edd6c9c6e6db00fb0                      3                 3   \n",
       "5b829227dd6c9c4c7fb00da0                      5                 5   \n",
       "5b82922cdd6c9c2801b00f20                      2                 2   \n",
       "5b82922add6c9c5f61b00e6a                      7                 7   \n",
       "5b82922edd6c9cd998b00f86                     12                12   \n",
       "\n",
       "                          maximumMarks  totalCorrects  totalErrors  totalMark  \\\n",
       "user                                                                            \n",
       "5b82922edd6c9c6e6db00fb0     40.000000      20.666667    19.333333  20.666667   \n",
       "5b829227dd6c9c4c7fb00da0     46.000000      20.000000    14.800000  20.000000   \n",
       "5b82922cdd6c9c2801b00f20     32.500000      15.000000     4.500000  15.000000   \n",
       "5b82922add6c9c5f61b00e6a     42.142857      23.571429    10.285714  23.571429   \n",
       "5b82922edd6c9cd998b00f86     25.000000       9.500000     6.250000   9.500000   \n",
       "\n",
       "                          totalMissed     totalTime  \n",
       "user                                                 \n",
       "5b82922edd6c9c6e6db00fb0     0.000000  2.358370e+06  \n",
       "5b829227dd6c9c4c7fb00da0    11.200000  2.940009e+06  \n",
       "5b82922cdd6c9c2801b00f20    13.000000  2.400013e+06  \n",
       "5b82922add6c9c5f61b00e6a     8.285714  2.585687e+06  \n",
       "5b82922edd6c9cd998b00f86     9.250000  1.527360e+06  "
      ]
     },
     "execution_count": 63,
     "metadata": {},
     "output_type": "execute_result"
    }
   ],
   "source": [
    "not_improved_df.head()"
   ]
  },
  {
   "cell_type": "code",
   "execution_count": 64,
   "metadata": {},
   "outputs": [
    {
     "data": {
      "text/html": [
       "<div>\n",
       "<style scoped>\n",
       "    .dataframe tbody tr th:only-of-type {\n",
       "        vertical-align: middle;\n",
       "    }\n",
       "\n",
       "    .dataframe tbody tr th {\n",
       "        vertical-align: top;\n",
       "    }\n",
       "\n",
       "    .dataframe thead th {\n",
       "        text-align: right;\n",
       "    }\n",
       "</style>\n",
       "<table border=\"1\" class=\"dataframe\">\n",
       "  <thead>\n",
       "    <tr style=\"text-align: right;\">\n",
       "      <th></th>\n",
       "      <th>improved_attempts</th>\n",
       "      <th>numberOfAttempts</th>\n",
       "      <th>maximumMarks</th>\n",
       "      <th>totalCorrects</th>\n",
       "      <th>totalErrors</th>\n",
       "      <th>totalMark</th>\n",
       "      <th>totalMissed</th>\n",
       "      <th>totalTime</th>\n",
       "    </tr>\n",
       "    <tr>\n",
       "      <th>user</th>\n",
       "      <th></th>\n",
       "      <th></th>\n",
       "      <th></th>\n",
       "      <th></th>\n",
       "      <th></th>\n",
       "      <th></th>\n",
       "      <th></th>\n",
       "      <th></th>\n",
       "    </tr>\n",
       "  </thead>\n",
       "  <tbody>\n",
       "    <tr>\n",
       "      <th>5b829223dd6c9cf5adb00cb4</th>\n",
       "      <td>5</td>\n",
       "      <td>5</td>\n",
       "      <td>44.0</td>\n",
       "      <td>19.400000</td>\n",
       "      <td>11.800000</td>\n",
       "      <td>19.400000</td>\n",
       "      <td>12.800000</td>\n",
       "      <td>2.919209e+06</td>\n",
       "    </tr>\n",
       "    <tr>\n",
       "      <th>5b829223dd6c9c1aceb00ca0</th>\n",
       "      <td>3</td>\n",
       "      <td>3</td>\n",
       "      <td>55.0</td>\n",
       "      <td>18.666667</td>\n",
       "      <td>18.666667</td>\n",
       "      <td>18.666667</td>\n",
       "      <td>17.666667</td>\n",
       "      <td>2.179794e+06</td>\n",
       "    </tr>\n",
       "    <tr>\n",
       "      <th>5b829228dd6c9c73eeb00e14</th>\n",
       "      <td>3</td>\n",
       "      <td>3</td>\n",
       "      <td>55.0</td>\n",
       "      <td>14.333333</td>\n",
       "      <td>40.333333</td>\n",
       "      <td>14.333333</td>\n",
       "      <td>0.333333</td>\n",
       "      <td>1.901014e+06</td>\n",
       "    </tr>\n",
       "    <tr>\n",
       "      <th>5b82922add6c9c71b8b00e94</th>\n",
       "      <td>3</td>\n",
       "      <td>3</td>\n",
       "      <td>55.0</td>\n",
       "      <td>23.666667</td>\n",
       "      <td>31.333333</td>\n",
       "      <td>23.666667</td>\n",
       "      <td>0.000000</td>\n",
       "      <td>2.729435e+06</td>\n",
       "    </tr>\n",
       "    <tr>\n",
       "      <th>5b829226dd6c9cfa8fb00d4c</th>\n",
       "      <td>4</td>\n",
       "      <td>4</td>\n",
       "      <td>55.0</td>\n",
       "      <td>27.000000</td>\n",
       "      <td>27.500000</td>\n",
       "      <td>27.000000</td>\n",
       "      <td>0.500000</td>\n",
       "      <td>1.963410e+06</td>\n",
       "    </tr>\n",
       "  </tbody>\n",
       "</table>\n",
       "</div>"
      ],
      "text/plain": [
       "                          improved_attempts  numberOfAttempts  maximumMarks  \\\n",
       "user                                                                          \n",
       "5b829223dd6c9cf5adb00cb4                  5                 5          44.0   \n",
       "5b829223dd6c9c1aceb00ca0                  3                 3          55.0   \n",
       "5b829228dd6c9c73eeb00e14                  3                 3          55.0   \n",
       "5b82922add6c9c71b8b00e94                  3                 3          55.0   \n",
       "5b829226dd6c9cfa8fb00d4c                  4                 4          55.0   \n",
       "\n",
       "                          totalCorrects  totalErrors  totalMark  totalMissed  \\\n",
       "user                                                                           \n",
       "5b829223dd6c9cf5adb00cb4      19.400000    11.800000  19.400000    12.800000   \n",
       "5b829223dd6c9c1aceb00ca0      18.666667    18.666667  18.666667    17.666667   \n",
       "5b829228dd6c9c73eeb00e14      14.333333    40.333333  14.333333     0.333333   \n",
       "5b82922add6c9c71b8b00e94      23.666667    31.333333  23.666667     0.000000   \n",
       "5b829226dd6c9cfa8fb00d4c      27.000000    27.500000  27.000000     0.500000   \n",
       "\n",
       "                             totalTime  \n",
       "user                                    \n",
       "5b829223dd6c9cf5adb00cb4  2.919209e+06  \n",
       "5b829223dd6c9c1aceb00ca0  2.179794e+06  \n",
       "5b829228dd6c9c73eeb00e14  1.901014e+06  \n",
       "5b82922add6c9c71b8b00e94  2.729435e+06  \n",
       "5b829226dd6c9cfa8fb00d4c  1.963410e+06  "
      ]
     },
     "execution_count": 64,
     "metadata": {},
     "output_type": "execute_result"
    }
   ],
   "source": [
    "improved_df.head()"
   ]
  },
  {
   "cell_type": "markdown",
   "metadata": {},
   "source": [
    "#### Now lets add a column named performance to both improved and not improved dataframes\n",
    "#### improved dataframe and not_improved dataframe will have 'improved' value and 'not improved' in performance columns as target variables."
   ]
  },
  {
   "cell_type": "code",
   "execution_count": 65,
   "metadata": {},
   "outputs": [],
   "source": [
    "improved_df['performance'] = 'improved'\n",
    "not_improved_df['performance'] = 'not_improved'"
   ]
  },
  {
   "cell_type": "code",
   "execution_count": 66,
   "metadata": {},
   "outputs": [
    {
     "data": {
      "text/html": [
       "<div>\n",
       "<style scoped>\n",
       "    .dataframe tbody tr th:only-of-type {\n",
       "        vertical-align: middle;\n",
       "    }\n",
       "\n",
       "    .dataframe tbody tr th {\n",
       "        vertical-align: top;\n",
       "    }\n",
       "\n",
       "    .dataframe thead th {\n",
       "        text-align: right;\n",
       "    }\n",
       "</style>\n",
       "<table border=\"1\" class=\"dataframe\">\n",
       "  <thead>\n",
       "    <tr style=\"text-align: right;\">\n",
       "      <th></th>\n",
       "      <th>improved_attempts</th>\n",
       "      <th>numberOfAttempts</th>\n",
       "      <th>maximumMarks</th>\n",
       "      <th>totalCorrects</th>\n",
       "      <th>totalErrors</th>\n",
       "      <th>totalMark</th>\n",
       "      <th>totalMissed</th>\n",
       "      <th>totalTime</th>\n",
       "      <th>performance</th>\n",
       "    </tr>\n",
       "    <tr>\n",
       "      <th>user</th>\n",
       "      <th></th>\n",
       "      <th></th>\n",
       "      <th></th>\n",
       "      <th></th>\n",
       "      <th></th>\n",
       "      <th></th>\n",
       "      <th></th>\n",
       "      <th></th>\n",
       "      <th></th>\n",
       "    </tr>\n",
       "  </thead>\n",
       "  <tbody>\n",
       "    <tr>\n",
       "      <th>5b829223dd6c9cf5adb00cb4</th>\n",
       "      <td>5</td>\n",
       "      <td>5</td>\n",
       "      <td>44.0</td>\n",
       "      <td>19.400000</td>\n",
       "      <td>11.800000</td>\n",
       "      <td>19.400000</td>\n",
       "      <td>12.800000</td>\n",
       "      <td>2.919209e+06</td>\n",
       "      <td>improved</td>\n",
       "    </tr>\n",
       "    <tr>\n",
       "      <th>5b829223dd6c9c1aceb00ca0</th>\n",
       "      <td>3</td>\n",
       "      <td>3</td>\n",
       "      <td>55.0</td>\n",
       "      <td>18.666667</td>\n",
       "      <td>18.666667</td>\n",
       "      <td>18.666667</td>\n",
       "      <td>17.666667</td>\n",
       "      <td>2.179794e+06</td>\n",
       "      <td>improved</td>\n",
       "    </tr>\n",
       "    <tr>\n",
       "      <th>5b829228dd6c9c73eeb00e14</th>\n",
       "      <td>3</td>\n",
       "      <td>3</td>\n",
       "      <td>55.0</td>\n",
       "      <td>14.333333</td>\n",
       "      <td>40.333333</td>\n",
       "      <td>14.333333</td>\n",
       "      <td>0.333333</td>\n",
       "      <td>1.901014e+06</td>\n",
       "      <td>improved</td>\n",
       "    </tr>\n",
       "    <tr>\n",
       "      <th>5b82922add6c9c71b8b00e94</th>\n",
       "      <td>3</td>\n",
       "      <td>3</td>\n",
       "      <td>55.0</td>\n",
       "      <td>23.666667</td>\n",
       "      <td>31.333333</td>\n",
       "      <td>23.666667</td>\n",
       "      <td>0.000000</td>\n",
       "      <td>2.729435e+06</td>\n",
       "      <td>improved</td>\n",
       "    </tr>\n",
       "    <tr>\n",
       "      <th>5b829226dd6c9cfa8fb00d4c</th>\n",
       "      <td>4</td>\n",
       "      <td>4</td>\n",
       "      <td>55.0</td>\n",
       "      <td>27.000000</td>\n",
       "      <td>27.500000</td>\n",
       "      <td>27.000000</td>\n",
       "      <td>0.500000</td>\n",
       "      <td>1.963410e+06</td>\n",
       "      <td>improved</td>\n",
       "    </tr>\n",
       "  </tbody>\n",
       "</table>\n",
       "</div>"
      ],
      "text/plain": [
       "                          improved_attempts  numberOfAttempts  maximumMarks  \\\n",
       "user                                                                          \n",
       "5b829223dd6c9cf5adb00cb4                  5                 5          44.0   \n",
       "5b829223dd6c9c1aceb00ca0                  3                 3          55.0   \n",
       "5b829228dd6c9c73eeb00e14                  3                 3          55.0   \n",
       "5b82922add6c9c71b8b00e94                  3                 3          55.0   \n",
       "5b829226dd6c9cfa8fb00d4c                  4                 4          55.0   \n",
       "\n",
       "                          totalCorrects  totalErrors  totalMark  totalMissed  \\\n",
       "user                                                                           \n",
       "5b829223dd6c9cf5adb00cb4      19.400000    11.800000  19.400000    12.800000   \n",
       "5b829223dd6c9c1aceb00ca0      18.666667    18.666667  18.666667    17.666667   \n",
       "5b829228dd6c9c73eeb00e14      14.333333    40.333333  14.333333     0.333333   \n",
       "5b82922add6c9c71b8b00e94      23.666667    31.333333  23.666667     0.000000   \n",
       "5b829226dd6c9cfa8fb00d4c      27.000000    27.500000  27.000000     0.500000   \n",
       "\n",
       "                             totalTime performance  \n",
       "user                                                \n",
       "5b829223dd6c9cf5adb00cb4  2.919209e+06    improved  \n",
       "5b829223dd6c9c1aceb00ca0  2.179794e+06    improved  \n",
       "5b829228dd6c9c73eeb00e14  1.901014e+06    improved  \n",
       "5b82922add6c9c71b8b00e94  2.729435e+06    improved  \n",
       "5b829226dd6c9cfa8fb00d4c  1.963410e+06    improved  "
      ]
     },
     "execution_count": 66,
     "metadata": {},
     "output_type": "execute_result"
    }
   ],
   "source": [
    "improved_df.head()"
   ]
  },
  {
   "cell_type": "code",
   "execution_count": 67,
   "metadata": {},
   "outputs": [
    {
     "data": {
      "text/html": [
       "<div>\n",
       "<style scoped>\n",
       "    .dataframe tbody tr th:only-of-type {\n",
       "        vertical-align: middle;\n",
       "    }\n",
       "\n",
       "    .dataframe tbody tr th {\n",
       "        vertical-align: top;\n",
       "    }\n",
       "\n",
       "    .dataframe thead th {\n",
       "        text-align: right;\n",
       "    }\n",
       "</style>\n",
       "<table border=\"1\" class=\"dataframe\">\n",
       "  <thead>\n",
       "    <tr style=\"text-align: right;\">\n",
       "      <th></th>\n",
       "      <th>not_improved_attempts</th>\n",
       "      <th>numberOfAttempts</th>\n",
       "      <th>maximumMarks</th>\n",
       "      <th>totalCorrects</th>\n",
       "      <th>totalErrors</th>\n",
       "      <th>totalMark</th>\n",
       "      <th>totalMissed</th>\n",
       "      <th>totalTime</th>\n",
       "      <th>performance</th>\n",
       "    </tr>\n",
       "    <tr>\n",
       "      <th>user</th>\n",
       "      <th></th>\n",
       "      <th></th>\n",
       "      <th></th>\n",
       "      <th></th>\n",
       "      <th></th>\n",
       "      <th></th>\n",
       "      <th></th>\n",
       "      <th></th>\n",
       "      <th></th>\n",
       "    </tr>\n",
       "  </thead>\n",
       "  <tbody>\n",
       "    <tr>\n",
       "      <th>5b82922edd6c9c6e6db00fb0</th>\n",
       "      <td>3</td>\n",
       "      <td>3</td>\n",
       "      <td>40.000000</td>\n",
       "      <td>20.666667</td>\n",
       "      <td>19.333333</td>\n",
       "      <td>20.666667</td>\n",
       "      <td>0.000000</td>\n",
       "      <td>2.358370e+06</td>\n",
       "      <td>not_improved</td>\n",
       "    </tr>\n",
       "    <tr>\n",
       "      <th>5b829227dd6c9c4c7fb00da0</th>\n",
       "      <td>5</td>\n",
       "      <td>5</td>\n",
       "      <td>46.000000</td>\n",
       "      <td>20.000000</td>\n",
       "      <td>14.800000</td>\n",
       "      <td>20.000000</td>\n",
       "      <td>11.200000</td>\n",
       "      <td>2.940009e+06</td>\n",
       "      <td>not_improved</td>\n",
       "    </tr>\n",
       "    <tr>\n",
       "      <th>5b82922cdd6c9c2801b00f20</th>\n",
       "      <td>2</td>\n",
       "      <td>2</td>\n",
       "      <td>32.500000</td>\n",
       "      <td>15.000000</td>\n",
       "      <td>4.500000</td>\n",
       "      <td>15.000000</td>\n",
       "      <td>13.000000</td>\n",
       "      <td>2.400013e+06</td>\n",
       "      <td>not_improved</td>\n",
       "    </tr>\n",
       "    <tr>\n",
       "      <th>5b82922add6c9c5f61b00e6a</th>\n",
       "      <td>7</td>\n",
       "      <td>7</td>\n",
       "      <td>42.142857</td>\n",
       "      <td>23.571429</td>\n",
       "      <td>10.285714</td>\n",
       "      <td>23.571429</td>\n",
       "      <td>8.285714</td>\n",
       "      <td>2.585687e+06</td>\n",
       "      <td>not_improved</td>\n",
       "    </tr>\n",
       "    <tr>\n",
       "      <th>5b82922edd6c9cd998b00f86</th>\n",
       "      <td>12</td>\n",
       "      <td>12</td>\n",
       "      <td>25.000000</td>\n",
       "      <td>9.500000</td>\n",
       "      <td>6.250000</td>\n",
       "      <td>9.500000</td>\n",
       "      <td>9.250000</td>\n",
       "      <td>1.527360e+06</td>\n",
       "      <td>not_improved</td>\n",
       "    </tr>\n",
       "  </tbody>\n",
       "</table>\n",
       "</div>"
      ],
      "text/plain": [
       "                          not_improved_attempts  numberOfAttempts  \\\n",
       "user                                                                \n",
       "5b82922edd6c9c6e6db00fb0                      3                 3   \n",
       "5b829227dd6c9c4c7fb00da0                      5                 5   \n",
       "5b82922cdd6c9c2801b00f20                      2                 2   \n",
       "5b82922add6c9c5f61b00e6a                      7                 7   \n",
       "5b82922edd6c9cd998b00f86                     12                12   \n",
       "\n",
       "                          maximumMarks  totalCorrects  totalErrors  totalMark  \\\n",
       "user                                                                            \n",
       "5b82922edd6c9c6e6db00fb0     40.000000      20.666667    19.333333  20.666667   \n",
       "5b829227dd6c9c4c7fb00da0     46.000000      20.000000    14.800000  20.000000   \n",
       "5b82922cdd6c9c2801b00f20     32.500000      15.000000     4.500000  15.000000   \n",
       "5b82922add6c9c5f61b00e6a     42.142857      23.571429    10.285714  23.571429   \n",
       "5b82922edd6c9cd998b00f86     25.000000       9.500000     6.250000   9.500000   \n",
       "\n",
       "                          totalMissed     totalTime   performance  \n",
       "user                                                               \n",
       "5b82922edd6c9c6e6db00fb0     0.000000  2.358370e+06  not_improved  \n",
       "5b829227dd6c9c4c7fb00da0    11.200000  2.940009e+06  not_improved  \n",
       "5b82922cdd6c9c2801b00f20    13.000000  2.400013e+06  not_improved  \n",
       "5b82922add6c9c5f61b00e6a     8.285714  2.585687e+06  not_improved  \n",
       "5b82922edd6c9cd998b00f86     9.250000  1.527360e+06  not_improved  "
      ]
     },
     "execution_count": 67,
     "metadata": {},
     "output_type": "execute_result"
    }
   ],
   "source": [
    "not_improved_df.head()"
   ]
  },
  {
   "cell_type": "code",
   "execution_count": 68,
   "metadata": {},
   "outputs": [
    {
     "name": "stdout",
     "output_type": "stream",
     "text": [
      "1070\n",
      "1370\n"
     ]
    }
   ],
   "source": [
    "# not_improved_attempts and numberOfAttempts columns both should be equal, lets check them and remove one column\n",
    "print((not_improved_df.not_improved_attempts == not_improved_df.numberOfAttempts).sum())\n",
    "print((improved_df.improved_attempts == improved_df.numberOfAttempts).sum())"
   ]
  },
  {
   "cell_type": "code",
   "execution_count": 69,
   "metadata": {},
   "outputs": [],
   "source": [
    "#since both the columns belong to number of attempts, lets remove one column\n",
    "improved_df.drop('improved_attempts', axis=1, inplace=True)\n",
    "not_improved_df.drop('not_improved_attempts', axis=1, inplace=True)"
   ]
  },
  {
   "cell_type": "code",
   "execution_count": 70,
   "metadata": {},
   "outputs": [],
   "source": [
    "# Now lets join both the improved_df and not_improved_df to single dataframe.\n",
    "placement_performance_df = pd.concat([improved_df, not_improved_df])"
   ]
  },
  {
   "cell_type": "code",
   "execution_count": 71,
   "metadata": {},
   "outputs": [],
   "source": [
    "# lets sort the values using user feature\n",
    "placement_performance_df = placement_performance_df.sort_index()"
   ]
  },
  {
   "cell_type": "code",
   "execution_count": 72,
   "metadata": {},
   "outputs": [
    {
     "data": {
      "text/html": [
       "<div>\n",
       "<style scoped>\n",
       "    .dataframe tbody tr th:only-of-type {\n",
       "        vertical-align: middle;\n",
       "    }\n",
       "\n",
       "    .dataframe tbody tr th {\n",
       "        vertical-align: top;\n",
       "    }\n",
       "\n",
       "    .dataframe thead th {\n",
       "        text-align: right;\n",
       "    }\n",
       "</style>\n",
       "<table border=\"1\" class=\"dataframe\">\n",
       "  <thead>\n",
       "    <tr style=\"text-align: right;\">\n",
       "      <th></th>\n",
       "      <th>numberOfAttempts</th>\n",
       "      <th>maximumMarks</th>\n",
       "      <th>totalCorrects</th>\n",
       "      <th>totalErrors</th>\n",
       "      <th>totalMark</th>\n",
       "      <th>totalMissed</th>\n",
       "      <th>totalTime</th>\n",
       "      <th>performance</th>\n",
       "    </tr>\n",
       "    <tr>\n",
       "      <th>user</th>\n",
       "      <th></th>\n",
       "      <th></th>\n",
       "      <th></th>\n",
       "      <th></th>\n",
       "      <th></th>\n",
       "      <th></th>\n",
       "      <th></th>\n",
       "      <th></th>\n",
       "    </tr>\n",
       "  </thead>\n",
       "  <tbody>\n",
       "    <tr>\n",
       "      <th>5b443b21b05807000d75f264</th>\n",
       "      <td>4</td>\n",
       "      <td>35.000000</td>\n",
       "      <td>20.500000</td>\n",
       "      <td>12.000000</td>\n",
       "      <td>20.500000</td>\n",
       "      <td>2.500000</td>\n",
       "      <td>2.501583e+06</td>\n",
       "      <td>improved</td>\n",
       "    </tr>\n",
       "    <tr>\n",
       "      <th>5b4b99ef083538000d9885cf</th>\n",
       "      <td>7</td>\n",
       "      <td>35.714286</td>\n",
       "      <td>9.714286</td>\n",
       "      <td>6.714286</td>\n",
       "      <td>9.714286</td>\n",
       "      <td>19.285714</td>\n",
       "      <td>1.395147e+06</td>\n",
       "      <td>improved</td>\n",
       "    </tr>\n",
       "    <tr>\n",
       "      <th>5b4b99ef083538000d9885d1</th>\n",
       "      <td>14</td>\n",
       "      <td>26.071429</td>\n",
       "      <td>11.142857</td>\n",
       "      <td>13.642857</td>\n",
       "      <td>10.928571</td>\n",
       "      <td>1.285714</td>\n",
       "      <td>8.552166e+05</td>\n",
       "      <td>improved</td>\n",
       "    </tr>\n",
       "    <tr>\n",
       "      <th>5b4b99ef083538000d9885d3</th>\n",
       "      <td>2</td>\n",
       "      <td>37.500000</td>\n",
       "      <td>17.000000</td>\n",
       "      <td>13.500000</td>\n",
       "      <td>17.000000</td>\n",
       "      <td>7.000000</td>\n",
       "      <td>1.983042e+06</td>\n",
       "      <td>not_improved</td>\n",
       "    </tr>\n",
       "    <tr>\n",
       "      <th>5b4b99ef083538000d9885d5</th>\n",
       "      <td>2</td>\n",
       "      <td>45.000000</td>\n",
       "      <td>9.500000</td>\n",
       "      <td>4.000000</td>\n",
       "      <td>9.500000</td>\n",
       "      <td>31.500000</td>\n",
       "      <td>3.261012e+06</td>\n",
       "      <td>improved</td>\n",
       "    </tr>\n",
       "  </tbody>\n",
       "</table>\n",
       "</div>"
      ],
      "text/plain": [
       "                          numberOfAttempts  maximumMarks  totalCorrects  \\\n",
       "user                                                                      \n",
       "5b443b21b05807000d75f264                 4     35.000000      20.500000   \n",
       "5b4b99ef083538000d9885cf                 7     35.714286       9.714286   \n",
       "5b4b99ef083538000d9885d1                14     26.071429      11.142857   \n",
       "5b4b99ef083538000d9885d3                 2     37.500000      17.000000   \n",
       "5b4b99ef083538000d9885d5                 2     45.000000       9.500000   \n",
       "\n",
       "                          totalErrors  totalMark  totalMissed     totalTime  \\\n",
       "user                                                                          \n",
       "5b443b21b05807000d75f264    12.000000  20.500000     2.500000  2.501583e+06   \n",
       "5b4b99ef083538000d9885cf     6.714286   9.714286    19.285714  1.395147e+06   \n",
       "5b4b99ef083538000d9885d1    13.642857  10.928571     1.285714  8.552166e+05   \n",
       "5b4b99ef083538000d9885d3    13.500000  17.000000     7.000000  1.983042e+06   \n",
       "5b4b99ef083538000d9885d5     4.000000   9.500000    31.500000  3.261012e+06   \n",
       "\n",
       "                           performance  \n",
       "user                                    \n",
       "5b443b21b05807000d75f264      improved  \n",
       "5b4b99ef083538000d9885cf      improved  \n",
       "5b4b99ef083538000d9885d1      improved  \n",
       "5b4b99ef083538000d9885d3  not_improved  \n",
       "5b4b99ef083538000d9885d5      improved  "
      ]
     },
     "execution_count": 72,
     "metadata": {},
     "output_type": "execute_result"
    }
   ],
   "source": [
    "placement_performance_df.head()"
   ]
  },
  {
   "cell_type": "code",
   "execution_count": 76,
   "metadata": {},
   "outputs": [],
   "source": [
    "from sklearn.model_selection import GridSearchCV\n",
    "from sklearn.linear_model import LogisticRegression"
   ]
  },
  {
   "cell_type": "code",
   "execution_count": 77,
   "metadata": {},
   "outputs": [],
   "source": [
    "from sklearn.model_selection import train_test_split\n",
    "x_train, x_test, y_train, y_test=train_test_split(placement_performance_df.iloc[:,:-1],placement_performance_df.performance ,test_size=0.3)"
   ]
  },
  {
   "cell_type": "code",
   "execution_count": 78,
   "metadata": {},
   "outputs": [
    {
     "name": "stdout",
     "output_type": "stream",
     "text": [
      "improved        0.576112\n",
      "not_improved    0.423888\n",
      "Name: performance, dtype: float64\n",
      "improved        0.527322\n",
      "not_improved    0.472678\n",
      "Name: performance, dtype: float64\n"
     ]
    }
   ],
   "source": [
    "print(y_train.value_counts(normalize=True))\n",
    "print(y_test.value_counts(normalize=True))"
   ]
  },
  {
   "cell_type": "markdown",
   "metadata": {},
   "source": [
    "- As the data is not higly imbalanced it is ok to consider accuracy as model performance metric\n",
    "- But we will also see the confusion matrix, so that we can get better understanding of our model"
   ]
  },
  {
   "cell_type": "markdown",
   "metadata": {},
   "source": [
    "### LOGISTIC REGRESSION MODEL"
   ]
  },
  {
   "cell_type": "markdown",
   "metadata": {},
   "source": [
    "- Lets use logistic regression model to predict whether the student performance will be improved or not"
   ]
  },
  {
   "cell_type": "code",
   "execution_count": 79,
   "metadata": {},
   "outputs": [
    {
     "name": "stdout",
     "output_type": "stream",
     "text": [
      "tuned hpyerparameters :(best parameters)  {'C': 0.01, 'penalty': 'l1'}\n",
      "accuracy : 0.6048009367681498\n"
     ]
    }
   ],
   "source": [
    "grid={\"C\":np.logspace(-3,3,7), \"penalty\":[\"l1\",\"l2\"]}\n",
    "logreg=LogisticRegression()\n",
    "logreg_cv=GridSearchCV(logreg, grid, cv=10)\n",
    "logreg_cv.fit(x_train,y_train)\n",
    "\n",
    "print(\"tuned hpyerparameters :(best parameters) \",logreg_cv.best_params_)\n",
    "print(\"accuracy :\",logreg_cv.best_score_)"
   ]
  },
  {
   "cell_type": "code",
   "execution_count": 80,
   "metadata": {},
   "outputs": [],
   "source": [
    "from sklearn.metrics import accuracy_score\n",
    "from sklearn.metrics import classification_report"
   ]
  },
  {
   "cell_type": "code",
   "execution_count": 81,
   "metadata": {},
   "outputs": [
    {
     "data": {
      "text/plain": [
       "0.5683060109289617"
      ]
     },
     "execution_count": 81,
     "metadata": {},
     "output_type": "execute_result"
    }
   ],
   "source": [
    "logreg_predict = logreg_cv.predict(x_test)\n",
    "accuracy_score(logreg_predict, y_test)"
   ]
  },
  {
   "cell_type": "code",
   "execution_count": 84,
   "metadata": {},
   "outputs": [
    {
     "data": {
      "image/png": "[encoded data removed]",
      "text/plain": [
       "<Figure size 432x288 with 2 Axes>"
      ]
     },
     "metadata": {
      "needs_background": "light"
     },
     "output_type": "display_data"
    },
    {
     "name": "stdout",
     "output_type": "stream",
     "text": [
      "              precision    recall  f1-score   support\n",
      "\n",
      "    improved       0.56      0.81      0.66       386\n",
      "not_improved       0.58      0.30      0.40       346\n",
      "\n",
      "   micro avg       0.57      0.57      0.57       732\n",
      "   macro avg       0.57      0.55      0.53       732\n",
      "weighted avg       0.57      0.57      0.54       732\n",
      "\n"
     ]
    }
   ],
   "source": [
    "skplt.metrics.plot_confusion_matrix(y_test, logreg_predict, normalize=True);\n",
    "plt.show()\n",
    "print(classification_report(y_test, logreg_predict))"
   ]
  },
  {
   "cell_type": "markdown",
   "metadata": {},
   "source": [
    "### Observation:\n",
    "- Our logistic regression model precison on predicting both improved and not improved are nearly same 0.56 and 0.58.\n",
    "- Our logistic regression model is using most of improved values, with a recall rate of 0.81, but recall rate on not improved is 0.30 which is not good."
   ]
  },
  {
   "cell_type": "markdown",
   "metadata": {},
   "source": [
    "### K-NN"
   ]
  },
  {
   "cell_type": "markdown",
   "metadata": {},
   "source": [
    "- Lets use K nearest neighbour model to predict whether the student performance will be improved or not"
   ]
  },
  {
   "cell_type": "code",
   "execution_count": 85,
   "metadata": {},
   "outputs": [],
   "source": [
    "from sklearn.neighbors import KNeighborsClassifier"
   ]
  },
  {
   "cell_type": "code",
   "execution_count": 86,
   "metadata": {},
   "outputs": [
    {
     "name": "stdout",
     "output_type": "stream",
     "text": [
      "tuned hpyerparameters :(best parameters)  {'leaf_size': 1, 'n_neighbors': 25}\n",
      "accuracy : 0.5585480093676815\n"
     ]
    },
    {
     "data": {
      "text/plain": [
       "0.5300546448087432"
      ]
     },
     "execution_count": 86,
     "metadata": {},
     "output_type": "execute_result"
    }
   ],
   "source": [
    "grid= {'n_neighbors':list(range(1,30,2)), 'leaf_size':[1,3,5] } \n",
    "knn=KNeighborsClassifier()\n",
    "knn_cv=GridSearchCV(knn, grid, cv=10)\n",
    "knn_cv.fit(x_train,y_train)\n",
    "\n",
    "print(\"tuned hpyerparameters :(best parameters) \",knn_cv.best_params_)\n",
    "print(\"accuracy :\",knn_cv.best_score_)\n",
    "knn_predict = knn_cv.predict(x_test)\n",
    "accuracy_score(knn_predict, y_test)                          "
   ]
  },
  {
   "cell_type": "code",
   "execution_count": 87,
   "metadata": {},
   "outputs": [
    {
     "data": {
      "image/png": "[encoded data removed]",
      "text/plain": [
       "<Figure size 432x288 with 2 Axes>"
      ]
     },
     "metadata": {
      "needs_background": "light"
     },
     "output_type": "display_data"
    },
    {
     "name": "stdout",
     "output_type": "stream",
     "text": [
      "              precision    recall  f1-score   support\n",
      "\n",
      "    improved       0.54      0.78      0.64       386\n",
      "not_improved       0.51      0.25      0.33       346\n",
      "\n",
      "   micro avg       0.53      0.53      0.53       732\n",
      "   macro avg       0.52      0.52      0.48       732\n",
      "weighted avg       0.52      0.53      0.49       732\n",
      "\n"
     ]
    }
   ],
   "source": [
    "skplt.metrics.plot_confusion_matrix(y_test, knn_predict, normalize=True);\n",
    "plt.show()\n",
    "print(classification_report(y_test, knn_predict))"
   ]
  },
  {
   "cell_type": "markdown",
   "metadata": {},
   "source": [
    "### Observation:\n",
    "- Compared to logistic regression model knn model accuracy, precision recall values are less.\n",
    "- So Logistic regressioin model is better model when compared to knn model but logistic regression model is not a best model as its accuracy is also 56.8%"
   ]
  },
  {
   "cell_type": "markdown",
   "metadata": {},
   "source": [
    "### Conclusion:\n",
    "##### Used the following steps to answer the first objective whether more practice means better performance.\n",
    "##### Importing useful data:\n",
    "\n",
    "- As the data is in multiple json files, First created a local mongodb data base and imported all the json files as collections.\n",
    "- Later imported the pymongo module to jupyter notebook to interact with local database and do analysis.\n",
    "- As all the collections are not required for our first objective, we only use attempts, users, and attemptdetails collections.\n",
    "- Later normalized all these collections to pandas dataframe and later converted into csv files so that we don't need to import collections every time, instead we can load directly the csv files to do analysis.\n",
    "\n",
    "##### analysis:\n",
    "- As the problem statement says we should only do analysis on not abandoned tests.\n",
    "- So we deleted all the observations where isabandoned equal to true.\n",
    "- As most of tests taken by students are placement readiness tests, I have done analysis on placement readiness tests observations. \n",
    "- Next we have considered number of attempts as practice metric which states students who has attempted more number of tests has practiced more and vice versa.\n",
    "- considered average of total Marks as performance metric which states student who got more average of total marks has better performance.\n",
    "- we have used linear regression model to say whether the student performance improved with number of attempts.\n",
    "- For example user 1 has taken 5 tests, and we have 5 total marks like 20, 40, 55, 65, 78 etc, so we will fit the linear regression model on these 5 tests, and based on coefficient, if coefficient is positive means performance has increased and if coefficient is negative performance has decreased.\n",
    "- By using the above observation I have encoded every user with performance column whether improved or not improved.\n",
    "- We got like out of 2440 students who attempted more than 2 tests, 1370 students improved and 1070 students performance is not improved.\n",
    "- As now we have the performance column which can be used as explanatory or target variable. I have used logistic regression and K nearest neighbour algorithms to fit the model and predict the test variables.\n",
    "- Out of both the models, we are getting best accuracy with logistic regression model of 56.8% compared to 53% of KNN.\n",
    "- Though logistic regression is best model compared to knn, It is not the single best model as its accuracy is only 56.8% and also the recall reate on 'not improved' class variables is very low of 0.30\n",
    "- Still we can use other algorithms to improve the accuracty of prediction."
   ]
  },
  {
   "cell_type": "markdown",
   "metadata": {},
   "source": [
    "### [Q] [observation 1] Does more practice means better performance?\n",
    "\n",
    "### [ans] No, not all students who practiced more has better performance, \n",
    "for placement readiness test out of 2440 students who practiced, 56.14% students performance was improved and 43.85% students performance was not improved. So teachers should take care of students or users who are present in not_improved dataframe, as these students performance is not increasing with respective to practice and they have to see where they are lacking."
   ]
  }
 ],
 "metadata": {
  "kernelspec": {
   "display_name": "Python 3",
   "language": "python",
   "name": "python3"
  },
  "language_info": {
   "codemirror_mode": {
    "name": "ipython",
    "version": 3
   },
   "file_extension": ".py",
   "mimetype": "text/x-python",
   "name": "python",
   "nbconvert_exporter": "python",
   "pygments_lexer": "ipython3",
   "version": "3.7.1"
  }
 },
 "nbformat": 4,
 "nbformat_minor": 2
}
